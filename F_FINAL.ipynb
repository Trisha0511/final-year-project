{
  "nbformat": 4,
  "nbformat_minor": 0,
  "metadata": {
    "colab": {
      "provenance": []
    },
    "kernelspec": {
      "name": "python3",
      "display_name": "Python 3"
    }
  },
  "cells": [
    {
      "cell_type": "markdown",
      "metadata": {
        "id": "uB7ksYiWrMNh"
      },
      "source": [
        "# Urmi Patel\n",
        " (CP8305)"
      ]
    },
    {
      "cell_type": "markdown",
      "metadata": {
        "id": "ebIisPK3Ub6_"
      },
      "source": [
        "# How to add CSV file into Google Colab file !\n",
        "\n",
        "\n",
        "---\n",
        "You need to download csv files from Kaggle website [GooglePlayStore_Dataset](https://www.kaggle.com/lava18/google-play-store-apps)\n",
        "\n",
        "* first, run the below code\n",
        "* you will get 'choose files' option and click on it and select the file that you downloaded.\n",
        "* name -> googleplaystore.csv\n",
        "* after importing the csv file , you can run next code.\n",
        "\n",
        "\n",
        "\n",
        "\n",
        "\n"
      ]
    },
    {
      "cell_type": "code",
      "metadata": {
        "colab": {
          "base_uri": "https://localhost:8080/",
          "height": 90
        },
        "id": "ZvznDKlmFlvo",
        "outputId": "a437ca02-b00c-41da-b25e-a5d2a44a9e2a"
      },
      "source": [
        "# Add CSV file to the notebook\n",
        "from google.colab import files\n",
        "\n",
        "uploaded = files.upload()\n",
        "\n",
        "for fn in uploaded.keys():\n",
        "  print('User uploaded file name:\"{name}\" with length: {length} bytes'.format(name=fn, length=len(uploaded[fn])))"
      ],
      "execution_count": 1,
      "outputs": [
        {
          "output_type": "display_data",
          "data": {
            "text/plain": [
              "<IPython.core.display.HTML object>"
            ],
            "text/html": [
              "\n",
              "     <input type=\"file\" id=\"files-4d79a27c-2c1d-4328-b486-55aed0714ebe\" name=\"files[]\" multiple disabled\n",
              "        style=\"border:none\" />\n",
              "     <output id=\"result-4d79a27c-2c1d-4328-b486-55aed0714ebe\">\n",
              "      Upload widget is only available when the cell has been executed in the\n",
              "      current browser session. Please rerun this cell to enable.\n",
              "      </output>\n",
              "      <script>// Copyright 2017 Google LLC\n",
              "//\n",
              "// Licensed under the Apache License, Version 2.0 (the \"License\");\n",
              "// you may not use this file except in compliance with the License.\n",
              "// You may obtain a copy of the License at\n",
              "//\n",
              "//      http://www.apache.org/licenses/LICENSE-2.0\n",
              "//\n",
              "// Unless required by applicable law or agreed to in writing, software\n",
              "// distributed under the License is distributed on an \"AS IS\" BASIS,\n",
              "// WITHOUT WARRANTIES OR CONDITIONS OF ANY KIND, either express or implied.\n",
              "// See the License for the specific language governing permissions and\n",
              "// limitations under the License.\n",
              "\n",
              "/**\n",
              " * @fileoverview Helpers for google.colab Python module.\n",
              " */\n",
              "(function(scope) {\n",
              "function span(text, styleAttributes = {}) {\n",
              "  const element = document.createElement('span');\n",
              "  element.textContent = text;\n",
              "  for (const key of Object.keys(styleAttributes)) {\n",
              "    element.style[key] = styleAttributes[key];\n",
              "  }\n",
              "  return element;\n",
              "}\n",
              "\n",
              "// Max number of bytes which will be uploaded at a time.\n",
              "const MAX_PAYLOAD_SIZE = 100 * 1024;\n",
              "\n",
              "function _uploadFiles(inputId, outputId) {\n",
              "  const steps = uploadFilesStep(inputId, outputId);\n",
              "  const outputElement = document.getElementById(outputId);\n",
              "  // Cache steps on the outputElement to make it available for the next call\n",
              "  // to uploadFilesContinue from Python.\n",
              "  outputElement.steps = steps;\n",
              "\n",
              "  return _uploadFilesContinue(outputId);\n",
              "}\n",
              "\n",
              "// This is roughly an async generator (not supported in the browser yet),\n",
              "// where there are multiple asynchronous steps and the Python side is going\n",
              "// to poll for completion of each step.\n",
              "// This uses a Promise to block the python side on completion of each step,\n",
              "// then passes the result of the previous step as the input to the next step.\n",
              "function _uploadFilesContinue(outputId) {\n",
              "  const outputElement = document.getElementById(outputId);\n",
              "  const steps = outputElement.steps;\n",
              "\n",
              "  const next = steps.next(outputElement.lastPromiseValue);\n",
              "  return Promise.resolve(next.value.promise).then((value) => {\n",
              "    // Cache the last promise value to make it available to the next\n",
              "    // step of the generator.\n",
              "    outputElement.lastPromiseValue = value;\n",
              "    return next.value.response;\n",
              "  });\n",
              "}\n",
              "\n",
              "/**\n",
              " * Generator function which is called between each async step of the upload\n",
              " * process.\n",
              " * @param {string} inputId Element ID of the input file picker element.\n",
              " * @param {string} outputId Element ID of the output display.\n",
              " * @return {!Iterable<!Object>} Iterable of next steps.\n",
              " */\n",
              "function* uploadFilesStep(inputId, outputId) {\n",
              "  const inputElement = document.getElementById(inputId);\n",
              "  inputElement.disabled = false;\n",
              "\n",
              "  const outputElement = document.getElementById(outputId);\n",
              "  outputElement.innerHTML = '';\n",
              "\n",
              "  const pickedPromise = new Promise((resolve) => {\n",
              "    inputElement.addEventListener('change', (e) => {\n",
              "      resolve(e.target.files);\n",
              "    });\n",
              "  });\n",
              "\n",
              "  const cancel = document.createElement('button');\n",
              "  inputElement.parentElement.appendChild(cancel);\n",
              "  cancel.textContent = 'Cancel upload';\n",
              "  const cancelPromise = new Promise((resolve) => {\n",
              "    cancel.onclick = () => {\n",
              "      resolve(null);\n",
              "    };\n",
              "  });\n",
              "\n",
              "  // Wait for the user to pick the files.\n",
              "  const files = yield {\n",
              "    promise: Promise.race([pickedPromise, cancelPromise]),\n",
              "    response: {\n",
              "      action: 'starting',\n",
              "    }\n",
              "  };\n",
              "\n",
              "  cancel.remove();\n",
              "\n",
              "  // Disable the input element since further picks are not allowed.\n",
              "  inputElement.disabled = true;\n",
              "\n",
              "  if (!files) {\n",
              "    return {\n",
              "      response: {\n",
              "        action: 'complete',\n",
              "      }\n",
              "    };\n",
              "  }\n",
              "\n",
              "  for (const file of files) {\n",
              "    const li = document.createElement('li');\n",
              "    li.append(span(file.name, {fontWeight: 'bold'}));\n",
              "    li.append(span(\n",
              "        `(${file.type || 'n/a'}) - ${file.size} bytes, ` +\n",
              "        `last modified: ${\n",
              "            file.lastModifiedDate ? file.lastModifiedDate.toLocaleDateString() :\n",
              "                                    'n/a'} - `));\n",
              "    const percent = span('0% done');\n",
              "    li.appendChild(percent);\n",
              "\n",
              "    outputElement.appendChild(li);\n",
              "\n",
              "    const fileDataPromise = new Promise((resolve) => {\n",
              "      const reader = new FileReader();\n",
              "      reader.onload = (e) => {\n",
              "        resolve(e.target.result);\n",
              "      };\n",
              "      reader.readAsArrayBuffer(file);\n",
              "    });\n",
              "    // Wait for the data to be ready.\n",
              "    let fileData = yield {\n",
              "      promise: fileDataPromise,\n",
              "      response: {\n",
              "        action: 'continue',\n",
              "      }\n",
              "    };\n",
              "\n",
              "    // Use a chunked sending to avoid message size limits. See b/62115660.\n",
              "    let position = 0;\n",
              "    do {\n",
              "      const length = Math.min(fileData.byteLength - position, MAX_PAYLOAD_SIZE);\n",
              "      const chunk = new Uint8Array(fileData, position, length);\n",
              "      position += length;\n",
              "\n",
              "      const base64 = btoa(String.fromCharCode.apply(null, chunk));\n",
              "      yield {\n",
              "        response: {\n",
              "          action: 'append',\n",
              "          file: file.name,\n",
              "          data: base64,\n",
              "        },\n",
              "      };\n",
              "\n",
              "      let percentDone = fileData.byteLength === 0 ?\n",
              "          100 :\n",
              "          Math.round((position / fileData.byteLength) * 100);\n",
              "      percent.textContent = `${percentDone}% done`;\n",
              "\n",
              "    } while (position < fileData.byteLength);\n",
              "  }\n",
              "\n",
              "  // All done.\n",
              "  yield {\n",
              "    response: {\n",
              "      action: 'complete',\n",
              "    }\n",
              "  };\n",
              "}\n",
              "\n",
              "scope.google = scope.google || {};\n",
              "scope.google.colab = scope.google.colab || {};\n",
              "scope.google.colab._files = {\n",
              "  _uploadFiles,\n",
              "  _uploadFilesContinue,\n",
              "};\n",
              "})(self);\n",
              "</script> "
            ]
          },
          "metadata": {}
        },
        {
          "output_type": "stream",
          "name": "stdout",
          "text": [
            "Saving googleplaystore.csv to googleplaystore (1).csv\n",
            "User uploaded file name:\"googleplaystore (1).csv\" with length: 1355743 bytes\n"
          ]
        }
      ]
    },
    {
      "cell_type": "code",
      "metadata": {
        "id": "NArgNPluGY25"
      },
      "source": [
        "# Import necessary libraries\n",
        "import pandas as pd\n",
        "import numpy as np\n",
        "import seaborn as sns\n",
        "from sklearn import metrics\n",
        "from sklearn import svm\n",
        "from sklearn.model_selection import train_test_split\n",
        "from sklearn.linear_model import LinearRegression\n",
        "from sklearn.ensemble import RandomForestRegressor\n",
        "from sklearn.neural_network import MLPRegressor\n",
        "import random\n",
        "import matplotlib.pyplot as plt\n",
        "%matplotlib inline"
      ],
      "execution_count": 2,
      "outputs": []
    },
    {
      "cell_type": "code",
      "metadata": {
        "id": "Skbh1EvkGBJZ"
      },
      "source": [
        "df=pd.read_csv('/content/googleplaystore.csv')"
      ],
      "execution_count": 3,
      "outputs": []
    },
    {
      "cell_type": "code",
      "metadata": {
        "id": "s4TwQLNCG_JA"
      },
      "source": [
        "df.head()"
      ],
      "execution_count": null,
      "outputs": []
    },
    {
      "cell_type": "code",
      "metadata": {
        "colab": {
          "base_uri": "https://localhost:8080/"
        },
        "id": "ZzlDJKwmG_mO",
        "outputId": "6262849a-3d58-41fb-cbe6-0af323e630cd"
      },
      "source": [
        "# Describe the rating column\n",
        "df['Rating'].describe()"
      ],
      "execution_count": 4,
      "outputs": [
        {
          "output_type": "execute_result",
          "data": {
            "text/plain": [
              "count    9367.000000\n",
              "mean        4.193338\n",
              "std         0.537431\n",
              "min         1.000000\n",
              "25%         4.000000\n",
              "50%         4.300000\n",
              "75%         4.500000\n",
              "max        19.000000\n",
              "Name: Rating, dtype: float64"
            ]
          },
          "metadata": {},
          "execution_count": 4
        }
      ]
    },
    {
      "cell_type": "code",
      "metadata": {
        "colab": {
          "base_uri": "https://localhost:8080/"
        },
        "id": "4gjcw59xTY2e",
        "outputId": "732a473a-20b2-463d-b537-a609d84c4925"
      },
      "source": [
        "df.info()"
      ],
      "execution_count": 5,
      "outputs": [
        {
          "output_type": "stream",
          "name": "stdout",
          "text": [
            "<class 'pandas.core.frame.DataFrame'>\n",
            "RangeIndex: 10841 entries, 0 to 10840\n",
            "Data columns (total 13 columns):\n",
            " #   Column          Non-Null Count  Dtype  \n",
            "---  ------          --------------  -----  \n",
            " 0   App             10841 non-null  object \n",
            " 1   Category        10841 non-null  object \n",
            " 2   Rating          9367 non-null   float64\n",
            " 3   Reviews         10841 non-null  object \n",
            " 4   Size            10841 non-null  object \n",
            " 5   Installs        10841 non-null  object \n",
            " 6   Type            10840 non-null  object \n",
            " 7   Price           10841 non-null  object \n",
            " 8   Content Rating  10840 non-null  object \n",
            " 9   Genres          10841 non-null  object \n",
            " 10  Last Updated    10841 non-null  object \n",
            " 11  Current Ver     10833 non-null  object \n",
            " 12  Android Ver     10838 non-null  object \n",
            "dtypes: float64(1), object(12)\n",
            "memory usage: 1.1+ MB\n"
          ]
        }
      ]
    },
    {
      "cell_type": "code",
      "metadata": {
        "colab": {
          "base_uri": "https://localhost:8080/"
        },
        "id": "-rR2SXTxUQPY",
        "outputId": "b142237b-024a-4490-dfe3-5f96d13b9b16"
      },
      "source": [
        "# Show number of null values of our dataset\n",
        "df.isnull().sum()"
      ],
      "execution_count": 6,
      "outputs": [
        {
          "output_type": "execute_result",
          "data": {
            "text/plain": [
              "App                  0\n",
              "Category             0\n",
              "Rating            1474\n",
              "Reviews              0\n",
              "Size                 0\n",
              "Installs             0\n",
              "Type                 1\n",
              "Price                0\n",
              "Content Rating       1\n",
              "Genres               0\n",
              "Last Updated         0\n",
              "Current Ver          8\n",
              "Android Ver          3\n",
              "dtype: int64"
            ]
          },
          "metadata": {},
          "execution_count": 6
        }
      ]
    },
    {
      "cell_type": "markdown",
      "metadata": {
        "id": "D8lntb3CWK-N"
      },
      "source": [
        "# Data Preprocessing"
      ]
    },
    {
      "cell_type": "markdown",
      "metadata": {
        "id": "oguCTt45WPwk"
      },
      "source": [
        "## Data cleaning"
      ]
    },
    {
      "cell_type": "code",
      "metadata": {
        "id": "1v9-ocdHUTUZ"
      },
      "source": [
        "df.dropna(inplace = True)"
      ],
      "execution_count": 7,
      "outputs": []
    },
    {
      "cell_type": "code",
      "metadata": {
        "colab": {
          "base_uri": "https://localhost:8080/"
        },
        "id": "MULnUHZNWXJB",
        "outputId": "51c96054-8e1b-4bb4-d01d-8b992961d077"
      },
      "source": [
        "# After removing missing value we have 9360 instances in total\n",
        "df.info()"
      ],
      "execution_count": 8,
      "outputs": [
        {
          "output_type": "stream",
          "name": "stdout",
          "text": [
            "<class 'pandas.core.frame.DataFrame'>\n",
            "Index: 9360 entries, 0 to 10840\n",
            "Data columns (total 13 columns):\n",
            " #   Column          Non-Null Count  Dtype  \n",
            "---  ------          --------------  -----  \n",
            " 0   App             9360 non-null   object \n",
            " 1   Category        9360 non-null   object \n",
            " 2   Rating          9360 non-null   float64\n",
            " 3   Reviews         9360 non-null   object \n",
            " 4   Size            9360 non-null   object \n",
            " 5   Installs        9360 non-null   object \n",
            " 6   Type            9360 non-null   object \n",
            " 7   Price           9360 non-null   object \n",
            " 8   Content Rating  9360 non-null   object \n",
            " 9   Genres          9360 non-null   object \n",
            " 10  Last Updated    9360 non-null   object \n",
            " 11  Current Ver     9360 non-null   object \n",
            " 12  Android Ver     9360 non-null   object \n",
            "dtypes: float64(1), object(12)\n",
            "memory usage: 1023.8+ KB\n"
          ]
        }
      ]
    },
    {
      "cell_type": "code",
      "metadata": {
        "colab": {
          "base_uri": "https://localhost:8080/"
        },
        "id": "REx4kNdhWZeS",
        "outputId": "14cea34b-77b8-462a-d45e-c6f93a99994c"
      },
      "source": [
        "df.isnull().sum()"
      ],
      "execution_count": 9,
      "outputs": [
        {
          "output_type": "execute_result",
          "data": {
            "text/plain": [
              "App               0\n",
              "Category          0\n",
              "Rating            0\n",
              "Reviews           0\n",
              "Size              0\n",
              "Installs          0\n",
              "Type              0\n",
              "Price             0\n",
              "Content Rating    0\n",
              "Genres            0\n",
              "Last Updated      0\n",
              "Current Ver       0\n",
              "Android Ver       0\n",
              "dtype: int64"
            ]
          },
          "metadata": {},
          "execution_count": 9
        }
      ]
    },
    {
      "cell_type": "code",
      "metadata": {
        "id": "DS7H81z8Wc4o"
      },
      "source": [
        "# Cleaning size of installation\n",
        "def change_size(size):\n",
        "    if 'M' in size:\n",
        "        x = size[:-1]\n",
        "        x = float(x)*1000000\n",
        "        return(x)\n",
        "    elif 'k' == size[-1:]:\n",
        "        x = size[:-1]\n",
        "        x = float(x)*1000\n",
        "        return(x)\n",
        "    else:\n",
        "        return None\n",
        "\n",
        "df[\"Size\"] = df[\"Size\"].map(change_size)"
      ],
      "execution_count": 10,
      "outputs": []
    },
    {
      "cell_type": "code",
      "metadata": {
        "id": "ckW6vWlXWrXs"
      },
      "source": [
        "# Filling Size which had NA\n",
        "df.Size.fillna(method = 'ffill', inplace = True)"
      ],
      "execution_count": 11,
      "outputs": []
    },
    {
      "cell_type": "code",
      "metadata": {
        "id": "QD5mf24VW5rY"
      },
      "source": [
        "# Cleaning no of installs\n",
        "df['Installs'] = [int(i[:-1].replace(',','')) for i in df['Installs']]"
      ],
      "execution_count": 12,
      "outputs": []
    },
    {
      "cell_type": "code",
      "metadata": {
        "id": "V0DHmd51XALi"
      },
      "source": [
        "# Cleaning of content rating\n",
        "RatingL = df['Content Rating'].unique()\n",
        "RatingDict = {}\n",
        "for i in range(len(RatingL)):\n",
        "    RatingDict[RatingL[i]] = i\n",
        "df['Content Rating'] = df['Content Rating'].map(RatingDict).astype(int)"
      ],
      "execution_count": 13,
      "outputs": []
    },
    {
      "cell_type": "code",
      "metadata": {
        "id": "DubAu-cFXsvW"
      },
      "source": [
        "# Cleaning prices column\n",
        "def price_clean(price):\n",
        "    if price == '0':\n",
        "        return 0\n",
        "    else:\n",
        "        price = price[1:]\n",
        "        price = float(price)\n",
        "        return price\n",
        "\n",
        "df['Price'] = df['Price'].map(price_clean).astype(float)"
      ],
      "execution_count": 14,
      "outputs": []
    },
    {
      "cell_type": "markdown",
      "metadata": {
        "id": "eTaG95mnXLdx"
      },
      "source": [
        "## Data Transformation"
      ]
    },
    {
      "cell_type": "code",
      "metadata": {
        "id": "vfrD_NNMXQN3"
      },
      "source": [
        "# Cleaning Categories column into integers\n",
        "CategoryString = df[\"Category\"]\n",
        "categoryVal = df[\"Category\"].unique()\n",
        "categoryValCount = len(categoryVal)\n",
        "category_dict = {}\n",
        "for i in range(0,categoryValCount):\n",
        "    category_dict[categoryVal[i]] = i\n",
        "df[\"Category_c\"] = df[\"Category\"].map(category_dict).astype(int)\n",
        "#print(category_dict)"
      ],
      "execution_count": 21,
      "outputs": []
    },
    {
      "cell_type": "code",
      "metadata": {
        "id": "JM_avSRsXWCd"
      },
      "source": [
        "# Converting Type column into binary\n",
        "def type_cat(types):\n",
        "    if types == 'Free':\n",
        "        return 0\n",
        "    else:\n",
        "        return 1\n",
        "\n",
        "df['Type'] = df['Type'].map(type_cat)"
      ],
      "execution_count": 22,
      "outputs": []
    },
    {
      "cell_type": "code",
      "metadata": {
        "id": "aJ0yYOdcXeLc"
      },
      "source": [
        "# Cleaning of genres column\n",
        "GenresL = df['Genres'].unique()\n",
        "GenresDict = {}\n",
        "for i in range(len(GenresL)):\n",
        "    GenresDict[GenresL[i]] = i\n",
        "df['Genres_c'] = df['Genres'].map(GenresDict).astype(int)"
      ],
      "execution_count": 20,
      "outputs": []
    },
    {
      "cell_type": "code",
      "metadata": {
        "id": "p8dRgO1xXpeH"
      },
      "source": [
        "# Convert reviews to numeric\n",
        "df['Reviews'] = df['Reviews'].astype(int)"
      ],
      "execution_count": 19,
      "outputs": []
    },
    {
      "cell_type": "code",
      "metadata": {
        "id": "HdE0yULOX0mz"
      },
      "source": [
        "# Dropping of unrelated and unnecessary items from the dataset\n",
        "df.drop(labels = ['Last Updated','Current Ver','Android Ver','App'], axis = 1, inplace = True)"
      ],
      "execution_count": 23,
      "outputs": []
    },
    {
      "cell_type": "code",
      "metadata": {
        "id": "j3dKtWOqX3ux"
      },
      "source": [
        "df.info()"
      ],
      "execution_count": null,
      "outputs": []
    },
    {
      "cell_type": "code",
      "metadata": {
        "id": "OLXxF9XdYWBe"
      },
      "source": [
        "df.head()"
      ],
      "execution_count": null,
      "outputs": []
    },
    {
      "cell_type": "code",
      "metadata": {
        "id": "-vH7TMGfYZAZ"
      },
      "source": [
        "# Second dataframe for one-hot encoding\n",
        "df2 = pd.get_dummies(df, columns=['Category'])"
      ],
      "execution_count": 24,
      "outputs": []
    },
    {
      "cell_type": "code",
      "metadata": {
        "id": "O2hTq1I3Yk7Z"
      },
      "source": [
        "df2.head()"
      ],
      "execution_count": null,
      "outputs": []
    },
    {
      "cell_type": "markdown",
      "metadata": {
        "id": "CEtwTNJoYxT2"
      },
      "source": [
        "# Data Visualisation"
      ]
    },
    {
      "cell_type": "markdown",
      "metadata": {
        "id": "7kO19IDeZMdP"
      },
      "source": [
        "## Rating Distribution"
      ]
    },
    {
      "cell_type": "code",
      "metadata": {
        "colab": {
          "base_uri": "https://localhost:8080/",
          "height": 862
        },
        "id": "xnqTyWs4YnLJ",
        "outputId": "68da8f27-ab1b-4688-9f4b-f711246635c3"
      },
      "source": [
        "# distribution of ratings\n",
        "from pylab import rcParams\n",
        "\n",
        "rcParams['figure.figsize'] = 11.7, 8.27\n",
        "g = sns.kdeplot(df.Rating, color=\"orange\", shade = True)\n",
        "g.set_xlabel(\"Rating\")\n",
        "g.set_ylabel(\"Frequency\")\n",
        "plt.title('Distribution of Rating',size = 15)"
      ],
      "execution_count": 25,
      "outputs": [
        {
          "output_type": "stream",
          "name": "stderr",
          "text": [
            "<ipython-input-25-cd03986e4a59>:5: FutureWarning: \n",
            "\n",
            "`shade` is now deprecated in favor of `fill`; setting `fill=True`.\n",
            "This will become an error in seaborn v0.14.0; please update your code.\n",
            "\n",
            "  g = sns.kdeplot(df.Rating, color=\"orange\", shade = True)\n"
          ]
        },
        {
          "output_type": "execute_result",
          "data": {
            "text/plain": [
              "Text(0.5, 1.0, 'Distribution of Rating')"
            ]
          },
          "metadata": {},
          "execution_count": 25
        },
        {
          "output_type": "display_data",
          "data": {
            "text/plain": [
              "<Figure size 1170x827 with 1 Axes>"
            ],
            "image/png": "[encoded data removed]"
          },
          "metadata": {}
        }
      ]
    },
    {
      "cell_type": "code",
      "metadata": {
        "colab": {
          "base_uri": "https://localhost:8080/"
        },
        "id": "59XtKSLRZZWI",
        "outputId": "185a6916-e3e6-4713-c859-059275920596"
      },
      "source": [
        "print('Average app rating = ', np.mean(df['Rating']))"
      ],
      "execution_count": 26,
      "outputs": [
        {
          "output_type": "stream",
          "name": "stdout",
          "text": [
            "Average app rating =  4.191837606837606\n"
          ]
        }
      ]
    },
    {
      "cell_type": "markdown",
      "metadata": {
        "id": "PfhwuUEAaBVp"
      },
      "source": [
        "## Correlation Matrix of data"
      ]
    },
    {
      "cell_type": "code",
      "metadata": {
        "colab": {
          "base_uri": "https://localhost:8080/",
          "height": 682
        },
        "id": "jFzAeBZgZeF3",
        "outputId": "2b623d3e-4a21-4e75-8d6a-02b313fef939"
      },
      "source": [
        "import seaborn as sns\n",
        "import pandas as pd\n",
        "import matplotlib.pyplot as plt\n",
        "\n",
        "# Drop non-numeric columns\n",
        "df_corr = df.drop(['Type', 'Category', 'Content Rating', 'Genres'], axis=1)\n",
        "\n",
        "# Compute the correlation matrix\n",
        "corrmat = df_corr.corr()\n",
        "\n",
        "# Set the figure size for the heatmap\n",
        "plt.figure(figsize=(10, 8))\n",
        "\n",
        "# Plot the heatmap\n",
        "sns.heatmap(corrmat, annot=True, cmap=sns.diverging_palette(245, 10, as_cmap=True))\n",
        "\n",
        "# Show the plot\n",
        "plt.show()\n"
      ],
      "execution_count": 28,
      "outputs": [
        {
          "output_type": "display_data",
          "data": {
            "text/plain": [
              "<Figure size 1000x800 with 2 Axes>"
            ],
            "image/png": "[encoded data removed]"
          },
          "metadata": {}
        }
      ]
    },
    {
      "cell_type": "markdown",
      "metadata": {
        "id": "_sz9QHbHc9gv"
      },
      "source": [
        "## Size VS Rating"
      ]
    },
    {
      "cell_type": "code",
      "metadata": {
        "colab": {
          "base_uri": "https://localhost:8080/",
          "height": 607
        },
        "id": "eJyle9ZwbSk2",
        "outputId": "29f36bbe-5d6c-4e42-9faa-4f7ab77278de"
      },
      "source": [
        "# How the application size impact on the rating\n",
        "groups = df.groupby('Category').filter(lambda x: len(x) >= 50).reset_index()\n",
        "sns.set_style(\"darkgrid\")\n",
        "ax = sns.jointplot(data=df, x='Size', y='Rating', kind='scatter')\n",
        "plt.show()"
      ],
      "execution_count": 30,
      "outputs": [
        {
          "output_type": "display_data",
          "data": {
            "text/plain": [
              "<Figure size 600x600 with 3 Axes>"
            ],
            "image/png": "[encoded data removed]"
          },
          "metadata": {}
        }
      ]
    },
    {
      "cell_type": "markdown",
      "metadata": {
        "id": "-EP_htQJdyHE"
      },
      "source": [
        "# Error Term"
      ]
    },
    {
      "cell_type": "code",
      "metadata": {
        "id": "PJOKOkg3dx3i"
      },
      "source": [
        "#for evaluation of error term and\n",
        "def Evaluationmatrix(y_true, y_predict):\n",
        "    print ('Mean Squared Error: '+ str(metrics.mean_squared_error(y_true,y_predict)))\n",
        "    print ('Mean absolute Error: '+ str(metrics.mean_absolute_error(y_true,y_predict)))\n",
        "    print ('r2_score: '+ str(metrics.r2_score(y_true,y_predict)))"
      ],
      "execution_count": 31,
      "outputs": []
    },
    {
      "cell_type": "code",
      "metadata": {
        "id": "a4q3GJXFd3jH"
      },
      "source": [
        "#to add into results_index for evaluation of error term\n",
        "def Evaluationmatrix_dict(y_true, y_predict, name = 'Linear - Integer'):\n",
        "    dict_matrix = {}\n",
        "    dict_matrix['Series Name'] = name\n",
        "    dict_matrix['Mean Squared Error'] = metrics.mean_squared_error(y_true,y_predict)\n",
        "    dict_matrix['Mean Absolute Error'] = metrics.mean_absolute_error(y_true,y_predict)\n",
        "    dict_matrix['r2_score'] = metrics.r2_score(y_true,y_predict)\n",
        "\n",
        "    return dict_matrix"
      ],
      "execution_count": 32,
      "outputs": []
    },
    {
      "cell_type": "markdown",
      "metadata": {
        "id": "h1fVaU9edjsU"
      },
      "source": [
        "# Regression models"
      ]
    },
    {
      "cell_type": "markdown",
      "metadata": {
        "id": "yjOl6qkdjOej"
      },
      "source": [
        "## Linear Regression"
      ]
    },
    {
      "cell_type": "markdown",
      "metadata": {
        "id": "JVzkodpYlX8m"
      },
      "source": [
        "### Without Genres"
      ]
    },
    {
      "cell_type": "code",
      "metadata": {
        "id": "SKXlYu9fFhDA"
      },
      "source": [
        "# Integer encoding\n",
        "X = df.drop(labels = ['Category','Rating','Genres','Genres_c'],axis = 1)\n",
        "y = df.Rating\n",
        "X_train, X_test, y_train, y_test = train_test_split(X, y, test_size=0.30)"
      ],
      "execution_count": 33,
      "outputs": []
    },
    {
      "cell_type": "code",
      "metadata": {
        "id": "qPgpzJR3dBXH"
      },
      "source": [
        "model = LinearRegression()\n",
        "model.fit(X_train,y_train)\n",
        "Results = model.predict(X_test)\n",
        "\n",
        "lr_mse = metrics.mean_squared_error(y_test, Results)\n",
        "lr_r2 = metrics.r2_score(y_test, Results)\n",
        "lr_mae = metrics.median_absolute_error(y_test, Results)\n",
        "\n",
        "# Creation of results dataframe and addition of first entry\n",
        "resultsdf = pd.DataFrame()\n",
        "resultsdf = resultsdf.from_dict(Evaluationmatrix_dict(y_test,Results),orient = 'index')\n",
        "resultsdf = resultsdf.transpose()"
      ],
      "execution_count": 34,
      "outputs": []
    },
    {
      "cell_type": "code",
      "metadata": {
        "colab": {
          "base_uri": "https://localhost:8080/"
        },
        "id": "CWHOvpTKgyxk",
        "outputId": "27917916-2b60-4858-9858-b1f48f1da56b"
      },
      "source": [
        "\n",
        "print(\"For Integer encoding\")\n",
        "print ('Mean squared error: ' +str(lr_mse))\n",
        "print ('Mean absolute error: ' +str(lr_mae))\n",
        "print ('r2 score: ' +str(lr_r2))"
      ],
      "execution_count": 35,
      "outputs": [
        {
          "output_type": "stream",
          "name": "stdout",
          "text": [
            "For Integer encoding\n",
            "Mean squared error: 0.2604092254701648\n",
            "Mean absolute error: 0.27196424859933743\n",
            "r2 score: 0.008302682089840085\n"
          ]
        }
      ]
    },
    {
      "cell_type": "code",
      "metadata": {
        "id": "vC_bjJfOGh27"
      },
      "source": [
        "# One-hot encoding\n",
        "\n",
        "X_d = df2.drop(labels = ['Rating','Genres','Category_c','Genres_c'],axis = 1)\n",
        "y_d = df2.Rating\n",
        "X_train_d, X_test_d, y_train_d, y_test_d = train_test_split(X_d, y_d, test_size=0.30)"
      ],
      "execution_count": 36,
      "outputs": []
    },
    {
      "cell_type": "code",
      "metadata": {
        "id": "6SMtfvIjdoB5"
      },
      "source": [
        "import pandas as pd\n",
        "\n",
        "# Initialize an empty DataFrame with column names\n",
        "resultsdf = pd.DataFrame(columns=['Series Name', 'Mean Squared Error', 'Mean Absolute Error', 'r2_score'])\n",
        "\n",
        "# Use your code for model fitting and evaluation\n",
        "model_d = LinearRegression()\n",
        "model_d.fit(X_train_d, y_train_d)\n",
        "Results_d = model_d.predict(X_test_d)\n",
        "\n",
        "lr_mse_d = metrics.mean_squared_error(y_test_d, Results_d)\n",
        "lr_r2_d = metrics.r2_score(y_test_d, Results_d)\n",
        "lr_mae_d = metrics.median_absolute_error(y_test_d, Results_d)\n",
        "\n",
        "# Append data to the DataFrame using loc\n",
        "resultsdf.loc[len(resultsdf)] = Evaluationmatrix_dict(y_test_d, Results_d, name='Linear - OneHot')"
      ],
      "execution_count": 45,
      "outputs": []
    },
    {
      "cell_type": "code",
      "metadata": {
        "colab": {
          "base_uri": "https://localhost:8080/"
        },
        "id": "pDtU2GAfe-vV",
        "outputId": "ff063e69-7689-4aa6-c70e-69c9f985da3d"
      },
      "source": [
        "print(\"For one-hot encoding\")\n",
        "print ('Mean squared error: ' +str(lr_mse_d))\n",
        "print ('Mean absolute error: ' +str(lr_mae_d))\n",
        "print ('r2 score: ' +str(lr_r2_d))\n"
      ],
      "execution_count": 46,
      "outputs": [
        {
          "output_type": "stream",
          "name": "stdout",
          "text": [
            "For one-hot encoding\n",
            "Mean squared error: 0.2746279511410357\n",
            "Mean absolute error: 0.25580308796428675\n",
            "r2 score: 0.04005014438777166\n"
          ]
        }
      ]
    },
    {
      "cell_type": "markdown",
      "metadata": {
        "id": "-yKtAYyFldpb"
      },
      "source": [
        "### With Genres"
      ]
    },
    {
      "cell_type": "code",
      "metadata": {
        "id": "2FpXWnlWGmvI"
      },
      "source": [
        "# Including genre label\n",
        "\n",
        "# Integer encoding\n",
        "X = df.drop(labels = ['Category','Rating','Genres'],axis = 1)\n",
        "y = df.Rating\n",
        "X_train, X_test, y_train, y_test = train_test_split(X, y, test_size=0.30)"
      ],
      "execution_count": 47,
      "outputs": []
    },
    {
      "cell_type": "code",
      "metadata": {
        "id": "X_1XybezhqZB"
      },
      "source": [
        "\n",
        "modela = LinearRegression()\n",
        "modela.fit(X_train,y_train)\n",
        "Resultsa = modela.predict(X_test)\n",
        "\n",
        "lrg_mse = metrics.mean_squared_error(y_test, Resultsa)\n",
        "lrg_r2 = metrics.r2_score(y_test, Resultsa)\n",
        "lrg_mae = metrics.median_absolute_error(y_test, Resultsa)\n",
        "\n",
        "resultsdf.loc[len(resultsdf)] = Evaluationmatrix_dict(y_test,Resultsa, name = 'Linear(inc Genre) - Integer')\n",
        "\n"
      ],
      "execution_count": 52,
      "outputs": []
    },
    {
      "cell_type": "code",
      "metadata": {
        "colab": {
          "base_uri": "https://localhost:8080/"
        },
        "id": "j8LbgKwbidJf",
        "outputId": "12a4c681-dcde-4698-ad5a-2314638315a3"
      },
      "source": [
        "print(\"For Integer encoding including genre\")\n",
        "print ('Mean squared error: ' +str(lrg_mse))\n",
        "print ('Mean absolute error: ' +str(lrg_mae))\n",
        "print ('r2 score: ' +str(lrg_r2))"
      ],
      "execution_count": 53,
      "outputs": [
        {
          "output_type": "stream",
          "name": "stdout",
          "text": [
            "For Integer encoding including genre\n",
            "Mean squared error: 0.28892164242088647\n",
            "Mean absolute error: 0.2655674170480087\n",
            "r2 score: 0.009289094013843813\n"
          ]
        }
      ]
    },
    {
      "cell_type": "code",
      "metadata": {
        "id": "DkpwKDdtGobu"
      },
      "source": [
        "# One-hot encoding\n",
        "\n",
        "X_d = df2.drop(labels = ['Rating','Genres','Category_c'],axis = 1)\n",
        "y_d = df2.Rating\n",
        "X_train_d, X_test_d, y_train_d, y_test_d = train_test_split(X_d, y_d, test_size=0.30)"
      ],
      "execution_count": 54,
      "outputs": []
    },
    {
      "cell_type": "code",
      "metadata": {
        "id": "nQRSwi2ziRKE"
      },
      "source": [
        "\n",
        "modela_d = LinearRegression()\n",
        "modela_d.fit(X_train_d,y_train_d)\n",
        "Resultsa_d = modela_d.predict(X_test_d)\n",
        "\n",
        "lrg_mse_d = metrics.mean_squared_error(y_test_d, Resultsa_d)\n",
        "lrg_r2_d = metrics.r2_score(y_test_d, Resultsa_d)\n",
        "lrg_mae_d = metrics.median_absolute_error(y_test_d, Resultsa_d)\n",
        "\n",
        "#resultsdf = resultsdf.append(Evaluationmatrix_dict(y_test_d,Resultsa_d, name = 'Linear(inc Genre) - OneHot'),ignore_index = True)\n",
        "resultsdf.loc[len(resultsdf)] = Evaluationmatrix_dict(y_test_d,Resultsa_d, name = 'Linear(inc Genre) - OneHot')"
      ],
      "execution_count": 56,
      "outputs": []
    },
    {
      "cell_type": "code",
      "metadata": {
        "colab": {
          "base_uri": "https://localhost:8080/"
        },
        "id": "ZaTbO8_ni50Y",
        "outputId": "9fe129a4-54bb-470c-d039-c3691b26b2fd"
      },
      "source": [
        "print(\"For one-hot encoding including genres\")\n",
        "print ('Mean squared error: ' +str(lrg_mse_d))\n",
        "print ('Mean absolute error: ' +str(lrg_mae_d))\n",
        "print ('r2 score: ' +str(lrg_r2_d))"
      ],
      "execution_count": 57,
      "outputs": [
        {
          "output_type": "stream",
          "name": "stdout",
          "text": [
            "For one-hot encoding including genres\n",
            "Mean squared error: 0.26291002054488644\n",
            "Mean absolute error: 0.26568396274359696\n",
            "r2 score: 0.014043457414546934\n"
          ]
        }
      ]
    },
    {
      "cell_type": "markdown",
      "metadata": {
        "id": "4inhqDAkjSs4"
      },
      "source": [
        "## Random Forest"
      ]
    },
    {
      "cell_type": "markdown",
      "metadata": {
        "id": "MW8uEoDrlOzO"
      },
      "source": [
        "### Without Genres"
      ]
    },
    {
      "cell_type": "code",
      "metadata": {
        "id": "nuxer-vaGsw6"
      },
      "source": [
        "# Integer encoding\n",
        "X = df.drop(labels = ['Category','Rating','Genres','Genres_c'],axis = 1)\n",
        "y = df.Rating\n",
        "X_train, X_test, y_train, y_test = train_test_split(X, y, test_size=0.30, random_state=10)"
      ],
      "execution_count": 58,
      "outputs": []
    },
    {
      "cell_type": "code",
      "metadata": {
        "id": "gjxMa4adjVrq"
      },
      "source": [
        "\n",
        "model2 = RandomForestRegressor()\n",
        "model2.fit(X_train,y_train)\n",
        "Results2 = model2.predict(X_test)\n",
        "\n",
        "rf_mse = metrics.mean_squared_error(y_test, Results2)\n",
        "rf_r2 = metrics.r2_score(y_test, Results2)\n",
        "rf_mae = metrics.median_absolute_error(y_test, Results2)\n",
        "\n",
        "#evaluation\n",
        "#resultsdf = resultsdf.append(Evaluationmatrix_dict(y_test,Results2, name = 'RFR - Integer'),ignore_index = True)\n",
        "resultsdf.loc[len(resultsdf)] = Evaluationmatrix_dict(y_test,Results2, name = 'RFR - Integer')"
      ],
      "execution_count": 60,
      "outputs": []
    },
    {
      "cell_type": "code",
      "metadata": {
        "colab": {
          "base_uri": "https://localhost:8080/"
        },
        "id": "um8YYM7-kC--",
        "outputId": "d6b841f7-4866-40f5-c6a3-8c9dac584aa0"
      },
      "source": [
        "print(\"For Integer encoding\")\n",
        "print ('Mean squared error: ' +str(rf_mse))\n",
        "print ('Mean absolute error: ' +str(rf_mae))\n",
        "print ('r2 score: ' +str(rf_r2))"
      ],
      "execution_count": 61,
      "outputs": [
        {
          "output_type": "stream",
          "name": "stdout",
          "text": [
            "For Integer encoding\n",
            "Mean squared error: 0.22406005921880148\n",
            "Mean absolute error: 0.20700000000000074\n",
            "r2 score: 0.13291516604036102\n"
          ]
        }
      ]
    },
    {
      "cell_type": "code",
      "metadata": {
        "id": "6AEiOdFWGvNl"
      },
      "source": [
        "# One-hot encoding\n",
        "\n",
        "X_d = df2.drop(labels = ['Rating','Genres','Category_c','Genres_c'],axis = 1)\n",
        "y_d = df2.Rating\n",
        "X_train_d, X_test_d, y_train_d, y_test_d = train_test_split(X_d, y_d, test_size=0.30, random_state=10)"
      ],
      "execution_count": 62,
      "outputs": []
    },
    {
      "cell_type": "code",
      "metadata": {
        "id": "K54F0stckdtJ"
      },
      "source": [
        "\n",
        "model2_d = RandomForestRegressor()\n",
        "model2_d.fit(X_train_d,y_train_d)\n",
        "Results2_d = model2_d.predict(X_test_d)\n",
        "\n",
        "rf_mse_d = metrics.mean_squared_error(y_test_d, Results2_d)\n",
        "rf_r2_d = metrics.r2_score(y_test_d, Results2_d)\n",
        "rf_mae_d = metrics.median_absolute_error(y_test_d, Results2_d)\n",
        "\n",
        "\n",
        "#evaluation\n",
        "#resultsdf = resultsdf.append(Evaluationmatrix_dict(y_test,Results2_d, name = 'RFR - OneHot'),ignore_index = True)\n",
        "resultsdf.loc[len(resultsdf)] = Evaluationmatrix_dict(y_test,Results2_d, name = 'RFR - OneHot')"
      ],
      "execution_count": 64,
      "outputs": []
    },
    {
      "cell_type": "code",
      "metadata": {
        "colab": {
          "base_uri": "https://localhost:8080/"
        },
        "id": "buIGpT5_keMq",
        "outputId": "20a70152-bad2-407a-a46c-f110d36b22e5"
      },
      "source": [
        "print(\"For one-hot encoding\")\n",
        "print ('Mean squared error: ' +str(rf_mse_d))\n",
        "print ('Mean absolute error: ' +str(rf_mae_d))\n",
        "print ('r2 score: ' +str(rf_r2_d))\n"
      ],
      "execution_count": 65,
      "outputs": [
        {
          "output_type": "stream",
          "name": "stdout",
          "text": [
            "For one-hot encoding\n",
            "Mean squared error: 0.22243736320760127\n",
            "Mean absolute error: 0.20199999999999818\n",
            "r2 score: 0.1391947997526084\n"
          ]
        }
      ]
    },
    {
      "cell_type": "markdown",
      "metadata": {
        "id": "lUz_Sb3nlTaB"
      },
      "source": [
        "### With Genres"
      ]
    },
    {
      "cell_type": "code",
      "metadata": {
        "id": "Hz4n3wqJGxw0"
      },
      "source": [
        "# Including Genres\n",
        "\n",
        "# Integer encoding\n",
        "X = df.drop(labels = ['Category','Rating','Genres'],axis = 1)\n",
        "y = df.Rating\n",
        "X_train, X_test, y_train, y_test = train_test_split(X, y, test_size=0.30,random_state=10)"
      ],
      "execution_count": 66,
      "outputs": []
    },
    {
      "cell_type": "code",
      "metadata": {
        "id": "nJMpFYpdlVp5"
      },
      "source": [
        "\n",
        "model2a = RandomForestRegressor()\n",
        "model2a.fit(X_train,y_train)\n",
        "Results2a = model2a.predict(X_test)\n",
        "\n",
        "rfg_mse = metrics.mean_squared_error(y_test, Results2a)\n",
        "rfg_r2 = metrics.r2_score(y_test, Results2a)\n",
        "rfg_mae = metrics.median_absolute_error(y_test, Results2a)\n",
        "\n",
        "\n",
        "# Evaluation\n",
        "#resultsdf = resultsdf.append(Evaluationmatrix_dict(y_test,Results2a, name = 'RFR(inc Genres) - Integer'),ignore_index = True)\n",
        "resultsdf.loc[len(resultsdf)] = Evaluationmatrix_dict(y_test,Results2a, name = 'RFR(inc Genres) - Integer')\n"
      ],
      "execution_count": 68,
      "outputs": []
    },
    {
      "cell_type": "code",
      "metadata": {
        "colab": {
          "base_uri": "https://localhost:8080/"
        },
        "id": "ARmJuFX4l3Vl",
        "outputId": "14bfae17-1029-4409-d4c4-3a00c4e3dcf0"
      },
      "source": [
        "print(\"For Integer encoding including genre\")\n",
        "print ('Mean squared error: ' +str(rfg_mse))\n",
        "print ('Mean absolute error: ' +str(rfg_mae))\n",
        "print ('r2 score: ' +str(rfg_r2))"
      ],
      "execution_count": 69,
      "outputs": [
        {
          "output_type": "stream",
          "name": "stdout",
          "text": [
            "For Integer encoding including genre\n",
            "Mean squared error: 0.2208902248160019\n",
            "Mean absolute error: 0.20400000000000107\n",
            "r2 score: 0.1451820347826701\n"
          ]
        }
      ]
    },
    {
      "cell_type": "code",
      "metadata": {
        "id": "w3hl54CHG0Pc"
      },
      "source": [
        "# One-hot encoding\n",
        "\n",
        "X_d = df2.drop(labels = ['Rating','Genres','Category_c'],axis = 1)\n",
        "y_d = df2.Rating\n",
        "X_train_d, X_test_d, y_train_d, y_test_d = train_test_split(X_d, y_d, test_size=0.30,random_state=10)"
      ],
      "execution_count": 70,
      "outputs": []
    },
    {
      "cell_type": "code",
      "metadata": {
        "id": "VYQP7Ii5l2y6"
      },
      "source": [
        "\n",
        "model2a_d = RandomForestRegressor()\n",
        "model2a_d.fit(X_train_d,y_train_d)\n",
        "Results2a_d = model2a_d.predict(X_test_d)\n",
        "\n",
        "rfg_mse_d = metrics.mean_squared_error(y_test_d, Results2a_d)\n",
        "rfg_r2_d = metrics.r2_score(y_test_d, Results2a_d)\n",
        "rfg_mae_d = metrics.median_absolute_error(y_test_d, Results2a_d)\n",
        "\n",
        "# Evaluation\n",
        "#resultsdf = resultsdf.append(Evaluationmatrix_dict(y_test,Results2a_d, name = 'RFR(inc Genres) - OneHot'),ignore_index = True)\n",
        "resultsdf.loc[len(resultsdf)] = Evaluationmatrix_dict(y_test,Results2a_d, name = 'RFR(inc Genres) - OneHot')"
      ],
      "execution_count": 71,
      "outputs": []
    },
    {
      "cell_type": "code",
      "metadata": {
        "colab": {
          "base_uri": "https://localhost:8080/"
        },
        "id": "gw_I8ciSl7LD",
        "outputId": "d7e6c023-7d17-4e84-dc0a-1c4a5bc8b51b"
      },
      "source": [
        "print(\"For one-hot encoding including genres\")\n",
        "print ('Mean squared error: ' +str(rfg_mse_d))\n",
        "print ('Mean absolute error: ' +str(rfg_mae_d))\n",
        "print ('r2 score: ' +str(rfg_r2_d))"
      ],
      "execution_count": 72,
      "outputs": [
        {
          "output_type": "stream",
          "name": "stdout",
          "text": [
            "For one-hot encoding including genres\n",
            "Mean squared error: 0.22013953510944198\n",
            "Mean absolute error: 0.2014999999999998\n",
            "r2 score: 0.148087111492179\n"
          ]
        }
      ]
    },
    {
      "cell_type": "markdown",
      "metadata": {
        "id": "PiycY3KDo8cL"
      },
      "source": [
        "## SVR"
      ]
    },
    {
      "cell_type": "markdown",
      "metadata": {
        "id": "AFwMnqFIo-bI"
      },
      "source": [
        "### Without Genres"
      ]
    },
    {
      "cell_type": "code",
      "metadata": {
        "id": "2Yy5mID2G2ss"
      },
      "source": [
        "#Integer encoding\n",
        "\n",
        "X = df.drop(labels = ['Category','Rating','Genres','Genres_c'],axis = 1)\n",
        "y = df.Rating\n",
        "X_train, X_test, y_train, y_test = train_test_split(X, y, test_size=0.30)"
      ],
      "execution_count": 73,
      "outputs": []
    },
    {
      "cell_type": "code",
      "metadata": {
        "id": "YBWdsfO9pGUq"
      },
      "source": [
        "\n",
        "\n",
        "model3 = svm.SVR()\n",
        "model3.fit(X_train,y_train)\n",
        "Results3 = model3.predict(X_test)\n",
        "\n",
        "svr_mse = metrics.mean_squared_error(y_test, Results3)\n",
        "svr_r2 = metrics.r2_score(y_test, Results3)\n",
        "svr_mae = metrics.median_absolute_error(y_test, Results3)\n",
        "\n",
        "# Evaluation\n",
        "#resultsdf = resultsdf.append(Evaluationmatrix_dict(y_test,Results3, name = 'SVR - Integer'),ignore_index = True)\n",
        "resultsdf.loc[len(resultsdf)] = Evaluationmatrix_dict(y_test,Results3, name = 'SVR - Integer')\n"
      ],
      "execution_count": 74,
      "outputs": []
    },
    {
      "cell_type": "code",
      "metadata": {
        "colab": {
          "base_uri": "https://localhost:8080/"
        },
        "id": "AKvG2XGhp5N9",
        "outputId": "05b13059-05f6-4d92-cf45-ff29ce2a471d"
      },
      "source": [
        "print(\"For Integer encoding\")\n",
        "print ('Mean squared error: ' +str(svr_mse))\n",
        "print ('Mean absolute error: ' +str(svr_mae))\n",
        "print ('r2 score: ' +str(svr_r2))"
      ],
      "execution_count": 75,
      "outputs": [
        {
          "output_type": "stream",
          "name": "stdout",
          "text": [
            "For Integer encoding\n",
            "Mean squared error: 0.2708181190351742\n",
            "Mean absolute error: 0.23546433759606566\n",
            "r2 score: 0.010099488286357872\n"
          ]
        }
      ]
    },
    {
      "cell_type": "code",
      "metadata": {
        "id": "5svnqgeTG5rw"
      },
      "source": [
        "# One-hot encoding\n",
        "\n",
        "X_d = df2.drop(labels = ['Rating','Genres','Category_c','Genres_c'],axis = 1)\n",
        "y_d = df2.Rating\n",
        "\n",
        "X_train_d, X_test_d, y_train_d, y_test_d = train_test_split(X_d, y_d, test_size=0.30)"
      ],
      "execution_count": 76,
      "outputs": []
    },
    {
      "cell_type": "code",
      "metadata": {
        "id": "2CxvB6oApfER"
      },
      "source": [
        "\n",
        "\n",
        "model3 = svm.SVR()\n",
        "model3.fit(X_train_d,y_train_d)\n",
        "Results3_d = model3.predict(X_test_d)\n",
        "\n",
        "svr_mse_d = metrics.mean_squared_error(y_test_d, Results3_d)\n",
        "svr_r2_d = metrics.r2_score(y_test_d, Results3_d)\n",
        "svr_mae_d = metrics.median_absolute_error(y_test_d, Results3_d)\n",
        "\n",
        "# Evaluation\n",
        "#resultsdf = resultsdf.append(Evaluationmatrix_dict(y_test_d,Results3_d, name = 'SVR - OneHot'),ignore_index = True)\n",
        "resultsdf.loc[len(resultsdf)] = Evaluationmatrix_dict(y_test_d,Results3_d, name = 'SVR - OneHot')"
      ],
      "execution_count": 77,
      "outputs": []
    },
    {
      "cell_type": "code",
      "metadata": {
        "colab": {
          "base_uri": "https://localhost:8080/"
        },
        "id": "z8YuDMPSqhUr",
        "outputId": "0c9e265f-cb45-4b24-faef-0e9de2dd2613"
      },
      "source": [
        "print(\"For one-hot encoding\")\n",
        "print ('Mean squared error: ' +str(svr_mse_d))\n",
        "print ('Mean absolute error: ' +str(svr_mae_d))\n",
        "print ('r2 score: ' +str(svr_r2_d))"
      ],
      "execution_count": 78,
      "outputs": [
        {
          "output_type": "stream",
          "name": "stdout",
          "text": [
            "For one-hot encoding\n",
            "Mean squared error: 0.27746653768879115\n",
            "Mean absolute error: 0.23776472374324165\n",
            "r2 score: 0.013822724263075403\n"
          ]
        }
      ]
    },
    {
      "cell_type": "markdown",
      "metadata": {
        "id": "jtfwWT8CpGwR"
      },
      "source": [
        "### With Genres"
      ]
    },
    {
      "cell_type": "code",
      "metadata": {
        "id": "L8kLs700G77o"
      },
      "source": [
        "# Integer encoding, including Genres\n",
        "\n",
        "X = df.drop(labels = ['Category','Rating','Genres'],axis = 1)\n",
        "y = df.Rating\n",
        "\n",
        "X_train, X_test, y_train, y_test = train_test_split(X, y, test_size=0.30)"
      ],
      "execution_count": 79,
      "outputs": []
    },
    {
      "cell_type": "code",
      "metadata": {
        "id": "Pq8dx0pppKgT"
      },
      "source": [
        "\n",
        "model3a = svm.SVR()\n",
        "model3a.fit(X_train,y_train)\n",
        "Results3a = model3a.predict(X_test)\n",
        "\n",
        "svr_mse = metrics.mean_squared_error(y_test, Results3a)\n",
        "svr_r2 = metrics.r2_score(y_test, Results3a)\n",
        "svr_mae = metrics.median_absolute_error(y_test, Results3a)\n",
        "\n",
        "#evaluation\n",
        "#resultsdf = resultsdf.append(Evaluationmatrix_dict(y_test,Results3a, name = 'SVR(inc Genres) - Integer'),ignore_index = True)\n",
        "resultsdf.loc[len(resultsdf)] = Evaluationmatrix_dict(y_test,Results3a, name = 'SVR(inc Genres) - Integer')\n"
      ],
      "execution_count": 80,
      "outputs": []
    },
    {
      "cell_type": "code",
      "metadata": {
        "colab": {
          "base_uri": "https://localhost:8080/"
        },
        "id": "0ehJW0c1rNGK",
        "outputId": "9eb43d79-c09e-4054-b4a0-b0c783fe1f84"
      },
      "source": [
        "print(\"For Integer encoding including genre\")\n",
        "print ('Mean squared error: ' +str(svr_mse))\n",
        "print ('Mean absolute error: ' +str(svr_mae))\n",
        "print ('r2 score: ' +str(svr_r2))"
      ],
      "execution_count": 81,
      "outputs": [
        {
          "output_type": "stream",
          "name": "stdout",
          "text": [
            "For Integer encoding including genre\n",
            "Mean squared error: 0.24937413204701311\n",
            "Mean absolute error: 0.22528751479592257\n",
            "r2 score: 0.005056380920021364\n"
          ]
        }
      ]
    },
    {
      "cell_type": "code",
      "metadata": {
        "id": "qQhBc9prG96d"
      },
      "source": [
        "# One-hot encoding, including Genres\n",
        "\n",
        "X_d = df2.drop(labels = ['Rating','Genres','Category_c'],axis = 1)\n",
        "y_d = df2.Rating\n",
        "\n",
        "X_train_d, X_test_d, y_train_d, y_test_d = train_test_split(X_d, y_d, test_size=0.30)"
      ],
      "execution_count": 82,
      "outputs": []
    },
    {
      "cell_type": "code",
      "metadata": {
        "id": "LX3I8jDrrL7Z"
      },
      "source": [
        "\n",
        "model3a = svm.SVR()\n",
        "model3a.fit(X_train_d,y_train_d)\n",
        "Results3a_d = model3a.predict(X_test_d)\n",
        "\n",
        "svr_mse_d = metrics.mean_squared_error(y_test_d, Results3a_d)\n",
        "svr_r2_d = metrics.r2_score(y_test_d, Results3a_d)\n",
        "svr_mae_d = metrics.median_absolute_error(y_test_d, Results3a_d)\n",
        "\n",
        "#evaluation\n",
        "#resultsdf = resultsdf.append(Evaluationmatrix_dict(y_test_d,Results3a_d, name = 'SVR(inc Genres) - OneHot'),ignore_index = True)\n",
        "resultsdf.loc[len(resultsdf)] = Evaluationmatrix_dict(y_test_d,Results3a_d, name = 'SVR(inc Genres) - OneHot')"
      ],
      "execution_count": 83,
      "outputs": []
    },
    {
      "cell_type": "code",
      "metadata": {
        "colab": {
          "base_uri": "https://localhost:8080/"
        },
        "id": "rgokGCVmrNov",
        "outputId": "64418dda-70b5-4605-adca-a76a21c1caef"
      },
      "source": [
        "print(\"For one-hot encoding including genres\")\n",
        "print ('Mean squared error: ' +str(svr_mse_d*100))\n",
        "print ('Mean absolute error: ' +str(svr_mae_d*100))\n",
        "print ('r2 score: ' +str(svr_r2_d*100))"
      ],
      "execution_count": 84,
      "outputs": [
        {
          "output_type": "stream",
          "name": "stdout",
          "text": [
            "For one-hot encoding including genres\n",
            "Mean squared error: 28.09993962199432\n",
            "Mean absolute error: 21.877465774070348\n",
            "r2 score: -3.218758985413217\n"
          ]
        }
      ]
    },
    {
      "cell_type": "markdown",
      "metadata": {
        "id": "W2J-Wqo7STc3"
      },
      "source": [
        "## Deep neural network (DNN)\n",
        "* Use MLPRegressor from the sklearn.neural_network"
      ]
    },
    {
      "cell_type": "markdown",
      "metadata": {
        "id": "2Ufn6PRgWiX8"
      },
      "source": [
        "### Without Generes"
      ]
    },
    {
      "cell_type": "code",
      "metadata": {
        "id": "sQZIJZP6SSkp"
      },
      "source": [
        "# Integer encoding - without generes\n",
        "X = df.drop(labels = ['Category','Rating','Genres','Genres_c'],axis = 1)\n",
        "y = df.Rating\n",
        "X_train, X_test, y_train, y_test = train_test_split(X, y, test_size=0.30, random_state=10)"
      ],
      "execution_count": 85,
      "outputs": []
    },
    {
      "cell_type": "code",
      "metadata": {
        "colab": {
          "base_uri": "https://localhost:8080/"
        },
        "id": "WXdOuckKhQza",
        "outputId": "08bb34c2-0c5b-4891-cb7a-630fe6acd331"
      },
      "source": [
        "X.shape,y.shape"
      ],
      "execution_count": 86,
      "outputs": [
        {
          "output_type": "execute_result",
          "data": {
            "text/plain": [
              "((9360, 7), (9360,))"
            ]
          },
          "metadata": {},
          "execution_count": 86
        }
      ]
    },
    {
      "cell_type": "code",
      "metadata": {
        "colab": {
          "base_uri": "https://localhost:8080/",
          "height": 206
        },
        "id": "3sYO59Kshrew",
        "outputId": "31f378dd-df15-4d29-a83d-8b4813ae356f"
      },
      "source": [
        "X.head()"
      ],
      "execution_count": 87,
      "outputs": [
        {
          "output_type": "execute_result",
          "data": {
            "text/plain": [
              "   Reviews        Size  Installs  Type  Price  Content Rating  Category_c\n",
              "0      159  19000000.0     10000     1    0.0               0           0\n",
              "1      967  14000000.0    500000     1    0.0               0           0\n",
              "2    87510   8700000.0   5000000     1    0.0               0           0\n",
              "3   215644  25000000.0  50000000     1    0.0               1           0\n",
              "4      967   2800000.0    100000     1    0.0               0           0"
            ],
            "text/html": [
              "\n",
              "  <div id=\"df-e20440b8-a788-4d67-a38c-c7dc35746c9d\" class=\"colab-df-container\">\n",
              "    <div>\n",
              "<style scoped>\n",
              "    .dataframe tbody tr th:only-of-type {\n",
              "        vertical-align: middle;\n",
              "    }\n",
              "\n",
              "    .dataframe tbody tr th {\n",
              "        vertical-align: top;\n",
              "    }\n",
              "\n",
              "    .dataframe thead th {\n",
              "        text-align: right;\n",
              "    }\n",
              "</style>\n",
              "<table border=\"1\" class=\"dataframe\">\n",
              "  <thead>\n",
              "    <tr style=\"text-align: right;\">\n",
              "      <th></th>\n",
              "      <th>Reviews</th>\n",
              "      <th>Size</th>\n",
              "      <th>Installs</th>\n",
              "      <th>Type</th>\n",
              "      <th>Price</th>\n",
              "      <th>Content Rating</th>\n",
              "      <th>Category_c</th>\n",
              "    </tr>\n",
              "  </thead>\n",
              "  <tbody>\n",
              "    <tr>\n",
              "      <th>0</th>\n",
              "      <td>159</td>\n",
              "      <td>19000000.0</td>\n",
              "      <td>10000</td>\n",
              "      <td>1</td>\n",
              "      <td>0.0</td>\n",
              "      <td>0</td>\n",
              "      <td>0</td>\n",
              "    </tr>\n",
              "    <tr>\n",
              "      <th>1</th>\n",
              "      <td>967</td>\n",
              "      <td>14000000.0</td>\n",
              "      <td>500000</td>\n",
              "      <td>1</td>\n",
              "      <td>0.0</td>\n",
              "      <td>0</td>\n",
              "      <td>0</td>\n",
              "    </tr>\n",
              "    <tr>\n",
              "      <th>2</th>\n",
              "      <td>87510</td>\n",
              "      <td>8700000.0</td>\n",
              "      <td>5000000</td>\n",
              "      <td>1</td>\n",
              "      <td>0.0</td>\n",
              "      <td>0</td>\n",
              "      <td>0</td>\n",
              "    </tr>\n",
              "    <tr>\n",
              "      <th>3</th>\n",
              "      <td>215644</td>\n",
              "      <td>25000000.0</td>\n",
              "      <td>50000000</td>\n",
              "      <td>1</td>\n",
              "      <td>0.0</td>\n",
              "      <td>1</td>\n",
              "      <td>0</td>\n",
              "    </tr>\n",
              "    <tr>\n",
              "      <th>4</th>\n",
              "      <td>967</td>\n",
              "      <td>2800000.0</td>\n",
              "      <td>100000</td>\n",
              "      <td>1</td>\n",
              "      <td>0.0</td>\n",
              "      <td>0</td>\n",
              "      <td>0</td>\n",
              "    </tr>\n",
              "  </tbody>\n",
              "</table>\n",
              "</div>\n",
              "    <div class=\"colab-df-buttons\">\n",
              "\n",
              "  <div class=\"colab-df-container\">\n",
              "    <button class=\"colab-df-convert\" onclick=\"convertToInteractive('df-e20440b8-a788-4d67-a38c-c7dc35746c9d')\"\n",
              "            title=\"Convert this dataframe to an interactive table.\"\n",
              "            style=\"display:none;\">\n",
              "\n",
              "  <svg xmlns=\"http://www.w3.org/2000/svg\" height=\"24px\" viewBox=\"0 -960 960 960\">\n",
              "    <path d=\"M120-120v-720h720v720H120Zm60-500h600v-160H180v160Zm220 220h160v-160H400v160Zm0 220h160v-160H400v160ZM180-400h160v-160H180v160Zm440 0h160v-160H620v160ZM180-180h160v-160H180v160Zm440 0h160v-160H620v160Z\"/>\n",
              "  </svg>\n",
              "    </button>\n",
              "\n",
              "  <style>\n",
              "    .colab-df-container {\n",
              "      display:flex;\n",
              "      gap: 12px;\n",
              "    }\n",
              "\n",
              "    .colab-df-convert {\n",
              "      background-color: #E8F0FE;\n",
              "      border: none;\n",
              "      border-radius: 50%;\n",
              "      cursor: pointer;\n",
              "      display: none;\n",
              "      fill: #1967D2;\n",
              "      height: 32px;\n",
              "      padding: 0 0 0 0;\n",
              "      width: 32px;\n",
              "    }\n",
              "\n",
              "    .colab-df-convert:hover {\n",
              "      background-color: #E2EBFA;\n",
              "      box-shadow: 0px 1px 2px rgba(60, 64, 67, 0.3), 0px 1px 3px 1px rgba(60, 64, 67, 0.15);\n",
              "      fill: #174EA6;\n",
              "    }\n",
              "\n",
              "    .colab-df-buttons div {\n",
              "      margin-bottom: 4px;\n",
              "    }\n",
              "\n",
              "    [theme=dark] .colab-df-convert {\n",
              "      background-color: #3B4455;\n",
              "      fill: #D2E3FC;\n",
              "    }\n",
              "\n",
              "    [theme=dark] .colab-df-convert:hover {\n",
              "      background-color: #434B5C;\n",
              "      box-shadow: 0px 1px 3px 1px rgba(0, 0, 0, 0.15);\n",
              "      filter: drop-shadow(0px 1px 2px rgba(0, 0, 0, 0.3));\n",
              "      fill: #FFFFFF;\n",
              "    }\n",
              "  </style>\n",
              "\n",
              "    <script>\n",
              "      const buttonEl =\n",
              "        document.querySelector('#df-e20440b8-a788-4d67-a38c-c7dc35746c9d button.colab-df-convert');\n",
              "      buttonEl.style.display =\n",
              "        google.colab.kernel.accessAllowed ? 'block' : 'none';\n",
              "\n",
              "      async function convertToInteractive(key) {\n",
              "        const element = document.querySelector('#df-e20440b8-a788-4d67-a38c-c7dc35746c9d');\n",
              "        const dataTable =\n",
              "          await google.colab.kernel.invokeFunction('convertToInteractive',\n",
              "                                                    [key], {});\n",
              "        if (!dataTable) return;\n",
              "\n",
              "        const docLinkHtml = 'Like what you see? Visit the ' +\n",
              "          '<a target=\"_blank\" href=https://colab.research.google.com/notebooks/data_table.ipynb>data table notebook</a>'\n",
              "          + ' to learn more about interactive tables.';\n",
              "        element.innerHTML = '';\n",
              "        dataTable['output_type'] = 'display_data';\n",
              "        await google.colab.output.renderOutput(dataTable, element);\n",
              "        const docLink = document.createElement('div');\n",
              "        docLink.innerHTML = docLinkHtml;\n",
              "        element.appendChild(docLink);\n",
              "      }\n",
              "    </script>\n",
              "  </div>\n",
              "\n",
              "\n",
              "<div id=\"df-e07cd5df-c1bc-4d05-9fa5-d966cf01476a\">\n",
              "  <button class=\"colab-df-quickchart\" onclick=\"quickchart('df-e07cd5df-c1bc-4d05-9fa5-d966cf01476a')\"\n",
              "            title=\"Suggest charts\"\n",
              "            style=\"display:none;\">\n",
              "\n",
              "<svg xmlns=\"http://www.w3.org/2000/svg\" height=\"24px\"viewBox=\"0 0 24 24\"\n",
              "     width=\"24px\">\n",
              "    <g>\n",
              "        <path d=\"M19 3H5c-1.1 0-2 .9-2 2v14c0 1.1.9 2 2 2h14c1.1 0 2-.9 2-2V5c0-1.1-.9-2-2-2zM9 17H7v-7h2v7zm4 0h-2V7h2v10zm4 0h-2v-4h2v4z\"/>\n",
              "    </g>\n",
              "</svg>\n",
              "  </button>\n",
              "\n",
              "<style>\n",
              "  .colab-df-quickchart {\n",
              "      --bg-color: #E8F0FE;\n",
              "      --fill-color: #1967D2;\n",
              "      --hover-bg-color: #E2EBFA;\n",
              "      --hover-fill-color: #174EA6;\n",
              "      --disabled-fill-color: #AAA;\n",
              "      --disabled-bg-color: #DDD;\n",
              "  }\n",
              "\n",
              "  [theme=dark] .colab-df-quickchart {\n",
              "      --bg-color: #3B4455;\n",
              "      --fill-color: #D2E3FC;\n",
              "      --hover-bg-color: #434B5C;\n",
              "      --hover-fill-color: #FFFFFF;\n",
              "      --disabled-bg-color: #3B4455;\n",
              "      --disabled-fill-color: #666;\n",
              "  }\n",
              "\n",
              "  .colab-df-quickchart {\n",
              "    background-color: var(--bg-color);\n",
              "    border: none;\n",
              "    border-radius: 50%;\n",
              "    cursor: pointer;\n",
              "    display: none;\n",
              "    fill: var(--fill-color);\n",
              "    height: 32px;\n",
              "    padding: 0;\n",
              "    width: 32px;\n",
              "  }\n",
              "\n",
              "  .colab-df-quickchart:hover {\n",
              "    background-color: var(--hover-bg-color);\n",
              "    box-shadow: 0 1px 2px rgba(60, 64, 67, 0.3), 0 1px 3px 1px rgba(60, 64, 67, 0.15);\n",
              "    fill: var(--button-hover-fill-color);\n",
              "  }\n",
              "\n",
              "  .colab-df-quickchart-complete:disabled,\n",
              "  .colab-df-quickchart-complete:disabled:hover {\n",
              "    background-color: var(--disabled-bg-color);\n",
              "    fill: var(--disabled-fill-color);\n",
              "    box-shadow: none;\n",
              "  }\n",
              "\n",
              "  .colab-df-spinner {\n",
              "    border: 2px solid var(--fill-color);\n",
              "    border-color: transparent;\n",
              "    border-bottom-color: var(--fill-color);\n",
              "    animation:\n",
              "      spin 1s steps(1) infinite;\n",
              "  }\n",
              "\n",
              "  @keyframes spin {\n",
              "    0% {\n",
              "      border-color: transparent;\n",
              "      border-bottom-color: var(--fill-color);\n",
              "      border-left-color: var(--fill-color);\n",
              "    }\n",
              "    20% {\n",
              "      border-color: transparent;\n",
              "      border-left-color: var(--fill-color);\n",
              "      border-top-color: var(--fill-color);\n",
              "    }\n",
              "    30% {\n",
              "      border-color: transparent;\n",
              "      border-left-color: var(--fill-color);\n",
              "      border-top-color: var(--fill-color);\n",
              "      border-right-color: var(--fill-color);\n",
              "    }\n",
              "    40% {\n",
              "      border-color: transparent;\n",
              "      border-right-color: var(--fill-color);\n",
              "      border-top-color: var(--fill-color);\n",
              "    }\n",
              "    60% {\n",
              "      border-color: transparent;\n",
              "      border-right-color: var(--fill-color);\n",
              "    }\n",
              "    80% {\n",
              "      border-color: transparent;\n",
              "      border-right-color: var(--fill-color);\n",
              "      border-bottom-color: var(--fill-color);\n",
              "    }\n",
              "    90% {\n",
              "      border-color: transparent;\n",
              "      border-bottom-color: var(--fill-color);\n",
              "    }\n",
              "  }\n",
              "</style>\n",
              "\n",
              "  <script>\n",
              "    async function quickchart(key) {\n",
              "      const quickchartButtonEl =\n",
              "        document.querySelector('#' + key + ' button');\n",
              "      quickchartButtonEl.disabled = true;  // To prevent multiple clicks.\n",
              "      quickchartButtonEl.classList.add('colab-df-spinner');\n",
              "      try {\n",
              "        const charts = await google.colab.kernel.invokeFunction(\n",
              "            'suggestCharts', [key], {});\n",
              "      } catch (error) {\n",
              "        console.error('Error during call to suggestCharts:', error);\n",
              "      }\n",
              "      quickchartButtonEl.classList.remove('colab-df-spinner');\n",
              "      quickchartButtonEl.classList.add('colab-df-quickchart-complete');\n",
              "    }\n",
              "    (() => {\n",
              "      let quickchartButtonEl =\n",
              "        document.querySelector('#df-e07cd5df-c1bc-4d05-9fa5-d966cf01476a button');\n",
              "      quickchartButtonEl.style.display =\n",
              "        google.colab.kernel.accessAllowed ? 'block' : 'none';\n",
              "    })();\n",
              "  </script>\n",
              "</div>\n",
              "\n",
              "    </div>\n",
              "  </div>\n"
            ],
            "application/vnd.google.colaboratory.intrinsic+json": {
              "type": "dataframe",
              "variable_name": "X",
              "summary": "{\n  \"name\": \"X\",\n  \"rows\": 9360,\n  \"fields\": [\n    {\n      \"column\": \"Reviews\",\n      \"properties\": {\n        \"dtype\": \"number\",\n        \"std\": 3145023,\n        \"min\": 1,\n        \"max\": 78158306,\n        \"num_unique_values\": 5990,\n        \"samples\": [\n          9400,\n          1688,\n          171\n        ],\n        \"semantic_type\": \"\",\n        \"description\": \"\"\n      }\n    },\n    {\n      \"column\": \"Size\",\n      \"properties\": {\n        \"dtype\": \"number\",\n        \"std\": 23245147.489668276,\n        \"min\": 8500.0,\n        \"max\": 100000000.0,\n        \"num_unique_values\": 411,\n        \"samples\": [\n          62000000.0,\n          7900000.0,\n          4900000.0\n        ],\n        \"semantic_type\": \"\",\n        \"description\": \"\"\n      }\n    },\n    {\n      \"column\": \"Installs\",\n      \"properties\": {\n        \"dtype\": \"number\",\n        \"std\": 91266365,\n        \"min\": 1,\n        \"max\": 1000000000,\n        \"num_unique_values\": 19,\n        \"samples\": [\n          10000,\n          50000,\n          1000\n        ],\n        \"semantic_type\": \"\",\n        \"description\": \"\"\n      }\n    },\n    {\n      \"column\": \"Type\",\n      \"properties\": {\n        \"dtype\": \"number\",\n        \"std\": 0,\n        \"min\": 1,\n        \"max\": 1,\n        \"num_unique_values\": 1,\n        \"samples\": [\n          1\n        ],\n        \"semantic_type\": \"\",\n        \"description\": \"\"\n      }\n    },\n    {\n      \"column\": \"Price\",\n      \"properties\": {\n        \"dtype\": \"number\",\n        \"std\": 15.821640247354308,\n        \"min\": 0.0,\n        \"max\": 400.0,\n        \"num_unique_values\": 73,\n        \"samples\": [\n          7.99\n        ],\n        \"semantic_type\": \"\",\n        \"description\": \"\"\n      }\n    },\n    {\n      \"column\": \"Content Rating\",\n      \"properties\": {\n        \"dtype\": \"number\",\n        \"std\": 0,\n        \"min\": 0,\n        \"max\": 5,\n        \"num_unique_values\": 6,\n        \"samples\": [\n          0\n        ],\n        \"semantic_type\": \"\",\n        \"description\": \"\"\n      }\n    },\n    {\n      \"column\": \"Category_c\",\n      \"properties\": {\n        \"dtype\": \"number\",\n        \"std\": 7,\n        \"min\": 0,\n        \"max\": 32,\n        \"num_unique_values\": 33,\n        \"samples\": [\n          31\n        ],\n        \"semantic_type\": \"\",\n        \"description\": \"\"\n      }\n    }\n  ]\n}"
            }
          },
          "metadata": {},
          "execution_count": 87
        }
      ]
    },
    {
      "cell_type": "code",
      "metadata": {
        "colab": {
          "base_uri": "https://localhost:8080/"
        },
        "id": "HoZvZFS4hyoz",
        "outputId": "a395fcba-00fa-406d-82b0-ce4b83444c2d"
      },
      "source": [
        "y.head()"
      ],
      "execution_count": 88,
      "outputs": [
        {
          "output_type": "execute_result",
          "data": {
            "text/plain": [
              "0    4.1\n",
              "1    3.9\n",
              "2    4.7\n",
              "3    4.5\n",
              "4    4.3\n",
              "Name: Rating, dtype: float64"
            ]
          },
          "metadata": {},
          "execution_count": 88
        }
      ]
    },
    {
      "cell_type": "code",
      "metadata": {
        "id": "WdOuPnNRpOcY"
      },
      "source": [
        "\n",
        "demomodel = MLPRegressor(hidden_layer_sizes=(100,100,70,40),max_iter=30,random_state=1,activation='tanh')\n",
        "demomodel.fit(X_train,y_train)\n",
        "demoresult = demomodel.predict(X_test)\n",
        "\n",
        "dnn_mse = metrics.mean_squared_error(y_test, demoresult)\n",
        "dnn_r2 = metrics.r2_score(y_test,demoresult)\n",
        "dnn_mae = metrics.median_absolute_error(y_test, demoresult)\n",
        "\n",
        "#evaluation\n",
        "#resultsdf = resultsdf.append(Evaluationmatrix_dict(y_test_d,demoresult, name = 'DNN - Integer'),ignore_index = True)\n",
        "resultsdf.loc[len(resultsdf)] = Evaluationmatrix_dict(y_test_d,demoresult, name = 'DNN - Integer')"
      ],
      "execution_count": 89,
      "outputs": []
    },
    {
      "cell_type": "code",
      "metadata": {
        "colab": {
          "base_uri": "https://localhost:8080/"
        },
        "id": "nuK5ckWVShEP",
        "outputId": "3b5e7c45-90bd-4dca-d19e-7fcc4c6f66c9"
      },
      "source": [
        "print(\"nn - For Integer encoding - without genres\")\n",
        "print ('Mean squared error: ' +str(dnn_mse))\n",
        "print ('Mean absolute error: ' +str(dnn_mae))\n",
        "print ('r2 score: ' +str(dnn_r2))"
      ],
      "execution_count": 90,
      "outputs": [
        {
          "output_type": "stream",
          "name": "stdout",
          "text": [
            "nn - For Integer encoding - without genres\n",
            "Mean squared error: 0.2575385917326592\n",
            "Mean absolute error: 0.2257110381545253\n",
            "r2 score: 0.003357368424842022\n"
          ]
        }
      ]
    },
    {
      "cell_type": "code",
      "metadata": {
        "colab": {
          "base_uri": "https://localhost:8080/",
          "height": 423
        },
        "id": "sUwOclhYpSHG",
        "outputId": "7b1a5949-935f-4cf3-c048-0fdcc47272e5"
      },
      "source": [
        "X_test"
      ],
      "execution_count": 91,
      "outputs": [
        {
          "output_type": "execute_result",
          "data": {
            "text/plain": [
              "      Reviews        Size  Installs  Type  Price  Content Rating  Category_c\n",
              "6523       30    721000.0      5000     1    0.0               0          15\n",
              "754     11904   1800000.0   1000000     1    0.0               0           8\n",
              "6845  1004709  20000000.0  50000000     1    0.0               1          17\n",
              "175      1322   3500000.0    100000     1    0.0               0           3\n",
              "4268       28  98000000.0      1000     1    0.0               0          18\n",
              "...       ...         ...       ...   ...    ...             ...         ...\n",
              "2659    38961  27000000.0   5000000     1    0.0               0          21\n",
              "2213    95537  58000000.0  10000000     1    0.0               0          18\n",
              "7354       66   8100000.0      1000     1    0.0               0          16\n",
              "5001    17263  18000000.0    500000     1    0.0               0          17\n",
              "1944      696  48000000.0    100000     1    0.0               0          17\n",
              "\n",
              "[2808 rows x 7 columns]"
            ],
            "text/html": [
              "\n",
              "  <div id=\"df-99406dd5-4ef8-4c1a-9995-5784f51baf8d\" class=\"colab-df-container\">\n",
              "    <div>\n",
              "<style scoped>\n",
              "    .dataframe tbody tr th:only-of-type {\n",
              "        vertical-align: middle;\n",
              "    }\n",
              "\n",
              "    .dataframe tbody tr th {\n",
              "        vertical-align: top;\n",
              "    }\n",
              "\n",
              "    .dataframe thead th {\n",
              "        text-align: right;\n",
              "    }\n",
              "</style>\n",
              "<table border=\"1\" class=\"dataframe\">\n",
              "  <thead>\n",
              "    <tr style=\"text-align: right;\">\n",
              "      <th></th>\n",
              "      <th>Reviews</th>\n",
              "      <th>Size</th>\n",
              "      <th>Installs</th>\n",
              "      <th>Type</th>\n",
              "      <th>Price</th>\n",
              "      <th>Content Rating</th>\n",
              "      <th>Category_c</th>\n",
              "    </tr>\n",
              "  </thead>\n",
              "  <tbody>\n",
              "    <tr>\n",
              "      <th>6523</th>\n",
              "      <td>30</td>\n",
              "      <td>721000.0</td>\n",
              "      <td>5000</td>\n",
              "      <td>1</td>\n",
              "      <td>0.0</td>\n",
              "      <td>0</td>\n",
              "      <td>15</td>\n",
              "    </tr>\n",
              "    <tr>\n",
              "      <th>754</th>\n",
              "      <td>11904</td>\n",
              "      <td>1800000.0</td>\n",
              "      <td>1000000</td>\n",
              "      <td>1</td>\n",
              "      <td>0.0</td>\n",
              "      <td>0</td>\n",
              "      <td>8</td>\n",
              "    </tr>\n",
              "    <tr>\n",
              "      <th>6845</th>\n",
              "      <td>1004709</td>\n",
              "      <td>20000000.0</td>\n",
              "      <td>50000000</td>\n",
              "      <td>1</td>\n",
              "      <td>0.0</td>\n",
              "      <td>1</td>\n",
              "      <td>17</td>\n",
              "    </tr>\n",
              "    <tr>\n",
              "      <th>175</th>\n",
              "      <td>1322</td>\n",
              "      <td>3500000.0</td>\n",
              "      <td>100000</td>\n",
              "      <td>1</td>\n",
              "      <td>0.0</td>\n",
              "      <td>0</td>\n",
              "      <td>3</td>\n",
              "    </tr>\n",
              "    <tr>\n",
              "      <th>4268</th>\n",
              "      <td>28</td>\n",
              "      <td>98000000.0</td>\n",
              "      <td>1000</td>\n",
              "      <td>1</td>\n",
              "      <td>0.0</td>\n",
              "      <td>0</td>\n",
              "      <td>18</td>\n",
              "    </tr>\n",
              "    <tr>\n",
              "      <th>...</th>\n",
              "      <td>...</td>\n",
              "      <td>...</td>\n",
              "      <td>...</td>\n",
              "      <td>...</td>\n",
              "      <td>...</td>\n",
              "      <td>...</td>\n",
              "      <td>...</td>\n",
              "    </tr>\n",
              "    <tr>\n",
              "      <th>2659</th>\n",
              "      <td>38961</td>\n",
              "      <td>27000000.0</td>\n",
              "      <td>5000000</td>\n",
              "      <td>1</td>\n",
              "      <td>0.0</td>\n",
              "      <td>0</td>\n",
              "      <td>21</td>\n",
              "    </tr>\n",
              "    <tr>\n",
              "      <th>2213</th>\n",
              "      <td>95537</td>\n",
              "      <td>58000000.0</td>\n",
              "      <td>10000000</td>\n",
              "      <td>1</td>\n",
              "      <td>0.0</td>\n",
              "      <td>0</td>\n",
              "      <td>18</td>\n",
              "    </tr>\n",
              "    <tr>\n",
              "      <th>7354</th>\n",
              "      <td>66</td>\n",
              "      <td>8100000.0</td>\n",
              "      <td>1000</td>\n",
              "      <td>1</td>\n",
              "      <td>0.0</td>\n",
              "      <td>0</td>\n",
              "      <td>16</td>\n",
              "    </tr>\n",
              "    <tr>\n",
              "      <th>5001</th>\n",
              "      <td>17263</td>\n",
              "      <td>18000000.0</td>\n",
              "      <td>500000</td>\n",
              "      <td>1</td>\n",
              "      <td>0.0</td>\n",
              "      <td>0</td>\n",
              "      <td>17</td>\n",
              "    </tr>\n",
              "    <tr>\n",
              "      <th>1944</th>\n",
              "      <td>696</td>\n",
              "      <td>48000000.0</td>\n",
              "      <td>100000</td>\n",
              "      <td>1</td>\n",
              "      <td>0.0</td>\n",
              "      <td>0</td>\n",
              "      <td>17</td>\n",
              "    </tr>\n",
              "  </tbody>\n",
              "</table>\n",
              "<p>2808 rows × 7 columns</p>\n",
              "</div>\n",
              "    <div class=\"colab-df-buttons\">\n",
              "\n",
              "  <div class=\"colab-df-container\">\n",
              "    <button class=\"colab-df-convert\" onclick=\"convertToInteractive('df-99406dd5-4ef8-4c1a-9995-5784f51baf8d')\"\n",
              "            title=\"Convert this dataframe to an interactive table.\"\n",
              "            style=\"display:none;\">\n",
              "\n",
              "  <svg xmlns=\"http://www.w3.org/2000/svg\" height=\"24px\" viewBox=\"0 -960 960 960\">\n",
              "    <path d=\"M120-120v-720h720v720H120Zm60-500h600v-160H180v160Zm220 220h160v-160H400v160Zm0 220h160v-160H400v160ZM180-400h160v-160H180v160Zm440 0h160v-160H620v160ZM180-180h160v-160H180v160Zm440 0h160v-160H620v160Z\"/>\n",
              "  </svg>\n",
              "    </button>\n",
              "\n",
              "  <style>\n",
              "    .colab-df-container {\n",
              "      display:flex;\n",
              "      gap: 12px;\n",
              "    }\n",
              "\n",
              "    .colab-df-convert {\n",
              "      background-color: #E8F0FE;\n",
              "      border: none;\n",
              "      border-radius: 50%;\n",
              "      cursor: pointer;\n",
              "      display: none;\n",
              "      fill: #1967D2;\n",
              "      height: 32px;\n",
              "      padding: 0 0 0 0;\n",
              "      width: 32px;\n",
              "    }\n",
              "\n",
              "    .colab-df-convert:hover {\n",
              "      background-color: #E2EBFA;\n",
              "      box-shadow: 0px 1px 2px rgba(60, 64, 67, 0.3), 0px 1px 3px 1px rgba(60, 64, 67, 0.15);\n",
              "      fill: #174EA6;\n",
              "    }\n",
              "\n",
              "    .colab-df-buttons div {\n",
              "      margin-bottom: 4px;\n",
              "    }\n",
              "\n",
              "    [theme=dark] .colab-df-convert {\n",
              "      background-color: #3B4455;\n",
              "      fill: #D2E3FC;\n",
              "    }\n",
              "\n",
              "    [theme=dark] .colab-df-convert:hover {\n",
              "      background-color: #434B5C;\n",
              "      box-shadow: 0px 1px 3px 1px rgba(0, 0, 0, 0.15);\n",
              "      filter: drop-shadow(0px 1px 2px rgba(0, 0, 0, 0.3));\n",
              "      fill: #FFFFFF;\n",
              "    }\n",
              "  </style>\n",
              "\n",
              "    <script>\n",
              "      const buttonEl =\n",
              "        document.querySelector('#df-99406dd5-4ef8-4c1a-9995-5784f51baf8d button.colab-df-convert');\n",
              "      buttonEl.style.display =\n",
              "        google.colab.kernel.accessAllowed ? 'block' : 'none';\n",
              "\n",
              "      async function convertToInteractive(key) {\n",
              "        const element = document.querySelector('#df-99406dd5-4ef8-4c1a-9995-5784f51baf8d');\n",
              "        const dataTable =\n",
              "          await google.colab.kernel.invokeFunction('convertToInteractive',\n",
              "                                                    [key], {});\n",
              "        if (!dataTable) return;\n",
              "\n",
              "        const docLinkHtml = 'Like what you see? Visit the ' +\n",
              "          '<a target=\"_blank\" href=https://colab.research.google.com/notebooks/data_table.ipynb>data table notebook</a>'\n",
              "          + ' to learn more about interactive tables.';\n",
              "        element.innerHTML = '';\n",
              "        dataTable['output_type'] = 'display_data';\n",
              "        await google.colab.output.renderOutput(dataTable, element);\n",
              "        const docLink = document.createElement('div');\n",
              "        docLink.innerHTML = docLinkHtml;\n",
              "        element.appendChild(docLink);\n",
              "      }\n",
              "    </script>\n",
              "  </div>\n",
              "\n",
              "\n",
              "<div id=\"df-d8f025e7-d874-46dc-91e8-dbdd14126f06\">\n",
              "  <button class=\"colab-df-quickchart\" onclick=\"quickchart('df-d8f025e7-d874-46dc-91e8-dbdd14126f06')\"\n",
              "            title=\"Suggest charts\"\n",
              "            style=\"display:none;\">\n",
              "\n",
              "<svg xmlns=\"http://www.w3.org/2000/svg\" height=\"24px\"viewBox=\"0 0 24 24\"\n",
              "     width=\"24px\">\n",
              "    <g>\n",
              "        <path d=\"M19 3H5c-1.1 0-2 .9-2 2v14c0 1.1.9 2 2 2h14c1.1 0 2-.9 2-2V5c0-1.1-.9-2-2-2zM9 17H7v-7h2v7zm4 0h-2V7h2v10zm4 0h-2v-4h2v4z\"/>\n",
              "    </g>\n",
              "</svg>\n",
              "  </button>\n",
              "\n",
              "<style>\n",
              "  .colab-df-quickchart {\n",
              "      --bg-color: #E8F0FE;\n",
              "      --fill-color: #1967D2;\n",
              "      --hover-bg-color: #E2EBFA;\n",
              "      --hover-fill-color: #174EA6;\n",
              "      --disabled-fill-color: #AAA;\n",
              "      --disabled-bg-color: #DDD;\n",
              "  }\n",
              "\n",
              "  [theme=dark] .colab-df-quickchart {\n",
              "      --bg-color: #3B4455;\n",
              "      --fill-color: #D2E3FC;\n",
              "      --hover-bg-color: #434B5C;\n",
              "      --hover-fill-color: #FFFFFF;\n",
              "      --disabled-bg-color: #3B4455;\n",
              "      --disabled-fill-color: #666;\n",
              "  }\n",
              "\n",
              "  .colab-df-quickchart {\n",
              "    background-color: var(--bg-color);\n",
              "    border: none;\n",
              "    border-radius: 50%;\n",
              "    cursor: pointer;\n",
              "    display: none;\n",
              "    fill: var(--fill-color);\n",
              "    height: 32px;\n",
              "    padding: 0;\n",
              "    width: 32px;\n",
              "  }\n",
              "\n",
              "  .colab-df-quickchart:hover {\n",
              "    background-color: var(--hover-bg-color);\n",
              "    box-shadow: 0 1px 2px rgba(60, 64, 67, 0.3), 0 1px 3px 1px rgba(60, 64, 67, 0.15);\n",
              "    fill: var(--button-hover-fill-color);\n",
              "  }\n",
              "\n",
              "  .colab-df-quickchart-complete:disabled,\n",
              "  .colab-df-quickchart-complete:disabled:hover {\n",
              "    background-color: var(--disabled-bg-color);\n",
              "    fill: var(--disabled-fill-color);\n",
              "    box-shadow: none;\n",
              "  }\n",
              "\n",
              "  .colab-df-spinner {\n",
              "    border: 2px solid var(--fill-color);\n",
              "    border-color: transparent;\n",
              "    border-bottom-color: var(--fill-color);\n",
              "    animation:\n",
              "      spin 1s steps(1) infinite;\n",
              "  }\n",
              "\n",
              "  @keyframes spin {\n",
              "    0% {\n",
              "      border-color: transparent;\n",
              "      border-bottom-color: var(--fill-color);\n",
              "      border-left-color: var(--fill-color);\n",
              "    }\n",
              "    20% {\n",
              "      border-color: transparent;\n",
              "      border-left-color: var(--fill-color);\n",
              "      border-top-color: var(--fill-color);\n",
              "    }\n",
              "    30% {\n",
              "      border-color: transparent;\n",
              "      border-left-color: var(--fill-color);\n",
              "      border-top-color: var(--fill-color);\n",
              "      border-right-color: var(--fill-color);\n",
              "    }\n",
              "    40% {\n",
              "      border-color: transparent;\n",
              "      border-right-color: var(--fill-color);\n",
              "      border-top-color: var(--fill-color);\n",
              "    }\n",
              "    60% {\n",
              "      border-color: transparent;\n",
              "      border-right-color: var(--fill-color);\n",
              "    }\n",
              "    80% {\n",
              "      border-color: transparent;\n",
              "      border-right-color: var(--fill-color);\n",
              "      border-bottom-color: var(--fill-color);\n",
              "    }\n",
              "    90% {\n",
              "      border-color: transparent;\n",
              "      border-bottom-color: var(--fill-color);\n",
              "    }\n",
              "  }\n",
              "</style>\n",
              "\n",
              "  <script>\n",
              "    async function quickchart(key) {\n",
              "      const quickchartButtonEl =\n",
              "        document.querySelector('#' + key + ' button');\n",
              "      quickchartButtonEl.disabled = true;  // To prevent multiple clicks.\n",
              "      quickchartButtonEl.classList.add('colab-df-spinner');\n",
              "      try {\n",
              "        const charts = await google.colab.kernel.invokeFunction(\n",
              "            'suggestCharts', [key], {});\n",
              "      } catch (error) {\n",
              "        console.error('Error during call to suggestCharts:', error);\n",
              "      }\n",
              "      quickchartButtonEl.classList.remove('colab-df-spinner');\n",
              "      quickchartButtonEl.classList.add('colab-df-quickchart-complete');\n",
              "    }\n",
              "    (() => {\n",
              "      let quickchartButtonEl =\n",
              "        document.querySelector('#df-d8f025e7-d874-46dc-91e8-dbdd14126f06 button');\n",
              "      quickchartButtonEl.style.display =\n",
              "        google.colab.kernel.accessAllowed ? 'block' : 'none';\n",
              "    })();\n",
              "  </script>\n",
              "</div>\n",
              "\n",
              "  <div id=\"id_abb7aaf1-602a-429f-9114-719212eff996\">\n",
              "    <style>\n",
              "      .colab-df-generate {\n",
              "        background-color: #E8F0FE;\n",
              "        border: none;\n",
              "        border-radius: 50%;\n",
              "        cursor: pointer;\n",
              "        display: none;\n",
              "        fill: #1967D2;\n",
              "        height: 32px;\n",
              "        padding: 0 0 0 0;\n",
              "        width: 32px;\n",
              "      }\n",
              "\n",
              "      .colab-df-generate:hover {\n",
              "        background-color: #E2EBFA;\n",
              "        box-shadow: 0px 1px 2px rgba(60, 64, 67, 0.3), 0px 1px 3px 1px rgba(60, 64, 67, 0.15);\n",
              "        fill: #174EA6;\n",
              "      }\n",
              "\n",
              "      [theme=dark] .colab-df-generate {\n",
              "        background-color: #3B4455;\n",
              "        fill: #D2E3FC;\n",
              "      }\n",
              "\n",
              "      [theme=dark] .colab-df-generate:hover {\n",
              "        background-color: #434B5C;\n",
              "        box-shadow: 0px 1px 3px 1px rgba(0, 0, 0, 0.15);\n",
              "        filter: drop-shadow(0px 1px 2px rgba(0, 0, 0, 0.3));\n",
              "        fill: #FFFFFF;\n",
              "      }\n",
              "    </style>\n",
              "    <button class=\"colab-df-generate\" onclick=\"generateWithVariable('X_test')\"\n",
              "            title=\"Generate code using this dataframe.\"\n",
              "            style=\"display:none;\">\n",
              "\n",
              "  <svg xmlns=\"http://www.w3.org/2000/svg\" height=\"24px\"viewBox=\"0 0 24 24\"\n",
              "       width=\"24px\">\n",
              "    <path d=\"M7,19H8.4L18.45,9,17,7.55,7,17.6ZM5,21V16.75L18.45,3.32a2,2,0,0,1,2.83,0l1.4,1.43a1.91,1.91,0,0,1,.58,1.4,1.91,1.91,0,0,1-.58,1.4L9.25,21ZM18.45,9,17,7.55Zm-12,3A5.31,5.31,0,0,0,4.9,8.1,5.31,5.31,0,0,0,1,6.5,5.31,5.31,0,0,0,4.9,4.9,5.31,5.31,0,0,0,6.5,1,5.31,5.31,0,0,0,8.1,4.9,5.31,5.31,0,0,0,12,6.5,5.46,5.46,0,0,0,6.5,12Z\"/>\n",
              "  </svg>\n",
              "    </button>\n",
              "    <script>\n",
              "      (() => {\n",
              "      const buttonEl =\n",
              "        document.querySelector('#id_abb7aaf1-602a-429f-9114-719212eff996 button.colab-df-generate');\n",
              "      buttonEl.style.display =\n",
              "        google.colab.kernel.accessAllowed ? 'block' : 'none';\n",
              "\n",
              "      buttonEl.onclick = () => {\n",
              "        google.colab.notebook.generateWithVariable('X_test');\n",
              "      }\n",
              "      })();\n",
              "    </script>\n",
              "  </div>\n",
              "\n",
              "    </div>\n",
              "  </div>\n"
            ],
            "application/vnd.google.colaboratory.intrinsic+json": {
              "type": "dataframe",
              "variable_name": "X_test",
              "summary": "{\n  \"name\": \"X_test\",\n  \"rows\": 2808,\n  \"fields\": [\n    {\n      \"column\": \"Reviews\",\n      \"properties\": {\n        \"dtype\": \"number\",\n        \"std\": 3277885,\n        \"min\": 1,\n        \"max\": 78158306,\n        \"num_unique_values\": 2153,\n        \"samples\": [\n          98819,\n          10796,\n          6199095\n        ],\n        \"semantic_type\": \"\",\n        \"description\": \"\"\n      }\n    },\n    {\n      \"column\": \"Size\",\n      \"properties\": {\n        \"dtype\": \"number\",\n        \"std\": 23366846.902934007,\n        \"min\": 17000.0,\n        \"max\": 100000000.0,\n        \"num_unique_values\": 249,\n        \"samples\": [\n          246000.0,\n          8600000.0,\n          30000000.0\n        ],\n        \"semantic_type\": \"\",\n        \"description\": \"\"\n      }\n    },\n    {\n      \"column\": \"Installs\",\n      \"properties\": {\n        \"dtype\": \"number\",\n        \"std\": 89790521,\n        \"min\": 1,\n        \"max\": 1000000000,\n        \"num_unique_values\": 19,\n        \"samples\": [\n          5000,\n          10000,\n          50000\n        ],\n        \"semantic_type\": \"\",\n        \"description\": \"\"\n      }\n    },\n    {\n      \"column\": \"Type\",\n      \"properties\": {\n        \"dtype\": \"number\",\n        \"std\": 0,\n        \"min\": 1,\n        \"max\": 1,\n        \"num_unique_values\": 1,\n        \"samples\": [\n          1\n        ],\n        \"semantic_type\": \"\",\n        \"description\": \"\"\n      }\n    },\n    {\n      \"column\": \"Price\",\n      \"properties\": {\n        \"dtype\": \"number\",\n        \"std\": 13.226880979493934,\n        \"min\": 0.0,\n        \"max\": 399.99,\n        \"num_unique_values\": 34,\n        \"samples\": [\n          11.99\n        ],\n        \"semantic_type\": \"\",\n        \"description\": \"\"\n      }\n    },\n    {\n      \"column\": \"Content Rating\",\n      \"properties\": {\n        \"dtype\": \"number\",\n        \"std\": 0,\n        \"min\": 0,\n        \"max\": 3,\n        \"num_unique_values\": 4,\n        \"samples\": [\n          1\n        ],\n        \"semantic_type\": \"\",\n        \"description\": \"\"\n      }\n    },\n    {\n      \"column\": \"Category_c\",\n      \"properties\": {\n        \"dtype\": \"number\",\n        \"std\": 7,\n        \"min\": 0,\n        \"max\": 32,\n        \"num_unique_values\": 33,\n        \"samples\": [\n          0\n        ],\n        \"semantic_type\": \"\",\n        \"description\": \"\"\n      }\n    }\n  ]\n}"
            }
          },
          "metadata": {},
          "execution_count": 91
        }
      ]
    },
    {
      "cell_type": "code",
      "metadata": {
        "colab": {
          "base_uri": "https://localhost:8080/"
        },
        "id": "0vz89TVXqVnA",
        "outputId": "74b150ac-e11f-4d13-92be-ed97b1008958"
      },
      "source": [
        "demoresult"
      ],
      "execution_count": 92,
      "outputs": [
        {
          "output_type": "execute_result",
          "data": {
            "text/plain": [
              "array([4.20901702, 4.30297784, 4.38971741, ..., 4.20901702, 4.20901702,\n",
              "       4.20901702])"
            ]
          },
          "metadata": {},
          "execution_count": 92
        }
      ]
    },
    {
      "cell_type": "code",
      "metadata": {
        "colab": {
          "base_uri": "https://localhost:8080/"
        },
        "id": "QtxbzWEjqZ-Q",
        "outputId": "8a1a8cb9-389c-4b54-b6aa-6c64527f83af"
      },
      "source": [
        "X_test.shape,demoresult.shape"
      ],
      "execution_count": 93,
      "outputs": [
        {
          "output_type": "execute_result",
          "data": {
            "text/plain": [
              "((2808, 7), (2808,))"
            ]
          },
          "metadata": {},
          "execution_count": 93
        }
      ]
    },
    {
      "cell_type": "code",
      "metadata": {
        "colab": {
          "base_uri": "https://localhost:8080/"
        },
        "id": "BIo8hN0xqiEc",
        "outputId": "0cf2b969-8cbf-4386-fb88-fe06ab1dd6c2"
      },
      "source": [
        "y_test"
      ],
      "execution_count": 94,
      "outputs": [
        {
          "output_type": "execute_result",
          "data": {
            "text/plain": [
              "6523    4.4\n",
              "754     4.3\n",
              "6845    4.3\n",
              "175     4.4\n",
              "4268    3.9\n",
              "       ... \n",
              "2659    4.3\n",
              "2213    3.9\n",
              "7354    4.9\n",
              "5001    4.5\n",
              "1944    4.5\n",
              "Name: Rating, Length: 2808, dtype: float64"
            ]
          },
          "metadata": {},
          "execution_count": 94
        }
      ]
    },
    {
      "cell_type": "code",
      "metadata": {
        "id": "_BT3OOaOqq5q"
      },
      "source": [
        "# One-hot encoding\n",
        "\n",
        "X_d = df2.drop(labels = ['Rating','Genres','Category_c','Genres_c'],axis = 1)\n",
        "y_d = df2.Rating\n",
        "X_train_d, X_test_d, y_train_d, y_test_d = train_test_split(X_d, y_d, test_size=0.30, random_state=10)"
      ],
      "execution_count": 95,
      "outputs": []
    },
    {
      "cell_type": "code",
      "metadata": {
        "id": "4XUZQP0ISqhi"
      },
      "source": [
        "demomodel_d = MLPRegressor(hidden_layer_sizes=(100,100,70,40),max_iter=30,random_state=1,activation='tanh')\n",
        "demomodel_d.fit(X_train_d,y_train_d)\n",
        "demoresult_d = demomodel_d.predict(X_test_d)\n",
        "\n",
        "dnn_mse_d = metrics.mean_squared_error(y_test, demoresult_d)\n",
        "dnn_r2_d = metrics.r2_score(y_test,demoresult_d)\n",
        "dnn_mae_d = metrics.median_absolute_error(y_test, demoresult_d)\n",
        "#evaluation\n",
        "#resultsdf = resultsdf.append(Evaluationmatrix_dict(y_test_d,demoresult_d, name = 'DNN - OneHot'),ignore_index = True)\n",
        "resultsdf.loc[len(resultsdf)] = Evaluationmatrix_dict(y_test_d,demoresult_d, name = 'DNN - OneHot')"
      ],
      "execution_count": 96,
      "outputs": []
    },
    {
      "cell_type": "code",
      "metadata": {
        "colab": {
          "base_uri": "https://localhost:8080/"
        },
        "id": "9erBadQbSu5E",
        "outputId": "8e0027d6-315b-422a-da42-be0cce20363a"
      },
      "source": [
        "print(\"dnn - For one-hot encoding - without genres\")\n",
        "print ('Mean squared error: ' +str(dnn_mse_d))\n",
        "print ('Mean absolute error: ' +str(dnn_mae_d))\n",
        "print ('r2 score: ' +str(dnn_r2_d))"
      ],
      "execution_count": 97,
      "outputs": [
        {
          "output_type": "stream",
          "name": "stdout",
          "text": [
            "dnn - For one-hot encoding - without genres\n",
            "Mean squared error: 0.2557883167311658\n",
            "Mean absolute error: 0.2812106243877204\n",
            "r2 score: 0.010130717116906607\n"
          ]
        }
      ]
    },
    {
      "cell_type": "markdown",
      "metadata": {
        "id": "31VEYK8xWm_y"
      },
      "source": [
        "### With Generes"
      ]
    },
    {
      "cell_type": "code",
      "metadata": {
        "id": "UcLjv6etVqP0"
      },
      "source": [
        "# Integer encoding, including Genres\n",
        "\n",
        "X = df.drop(labels = ['Category','Rating','Genres'],axis = 1)\n",
        "y = df.Rating\n",
        "\n",
        "X_train, X_test, y_train, y_test = train_test_split(X, y, test_size=0.30)"
      ],
      "execution_count": 98,
      "outputs": []
    },
    {
      "cell_type": "code",
      "metadata": {
        "id": "EW09pJHoW0nx"
      },
      "source": [
        "demomodela = MLPRegressor(hidden_layer_sizes=(100,100,70,40),max_iter=30,random_state=1,activation='tanh')\n",
        "demomodela.fit(X_train,y_train)\n",
        "demoresulta = demomodela.predict(X_test)\n",
        "\n",
        "dnna_mse = metrics.mean_squared_error(y_test, demoresulta)\n",
        "dnna_r2 = metrics.r2_score(y_test,demoresulta)\n",
        "dnna_mae = metrics.median_absolute_error(y_test, demoresulta)\n",
        "\n",
        "#evaluation\n",
        "#resultsdf = resultsdf.append(Evaluationmatrix_dict(y_test_d,demoresulta, name = 'DNN(with genres) - Integer'),ignore_index = True)\n",
        "resultsdf.loc[len(resultsdf)] = Evaluationmatrix_dict(y_test_d,demoresulta, name = 'DNN(with genres) - Integer')"
      ],
      "execution_count": 99,
      "outputs": []
    },
    {
      "cell_type": "code",
      "metadata": {
        "colab": {
          "base_uri": "https://localhost:8080/"
        },
        "id": "PW-g2ZKtW0bb",
        "outputId": "a1de1054-3a7e-4dec-9365-63898ddfd04f"
      },
      "source": [
        "print(\"nn - For Integer encoding - with genres\")\n",
        "print ('Mean squared error: ' +str(dnna_mse))\n",
        "print ('Mean absolute error: ' +str(dnna_mae))\n",
        "print ('r2 score: ' +str(dnna_r2))"
      ],
      "execution_count": 100,
      "outputs": [
        {
          "output_type": "stream",
          "name": "stdout",
          "text": [
            "nn - For Integer encoding - with genres\n",
            "Mean squared error: 0.2739371542761174\n",
            "Mean absolute error: 0.2621949194293265\n",
            "r2 score: 0.006764428758418206\n"
          ]
        }
      ]
    },
    {
      "cell_type": "code",
      "metadata": {
        "id": "HTXse_8YWzxz"
      },
      "source": [
        "# One-hot encoding, including Genres\n",
        "\n",
        "X_d = df2.drop(labels = ['Rating','Genres','Category_c'],axis = 1)\n",
        "y_d = df2.Rating\n",
        "\n",
        "X_train_d, X_test_d, y_train_d, y_test_d = train_test_split(X_d, y_d, test_size=0.30)"
      ],
      "execution_count": 101,
      "outputs": []
    },
    {
      "cell_type": "code",
      "metadata": {
        "id": "pvqUuaL5XGmp"
      },
      "source": [
        "demomodela_d = MLPRegressor(hidden_layer_sizes=(100,100,70,40),max_iter=30,random_state=1,activation='tanh')\n",
        "demomodela_d.fit(X_train_d,y_train_d)\n",
        "demoresulta_d = demomodela_d.predict(X_test_d)\n",
        "\n",
        "dnna_mse_d = metrics.mean_squared_error(y_test, demoresulta_d)\n",
        "dnna_r2_d = metrics.r2_score(y_test,demoresulta_d)\n",
        "dnna_mae_d = metrics.median_absolute_error(y_test, demoresulta_d)\n",
        "\n",
        "#evaluation\n",
        "#resultsdf = resultsdf.append(Evaluationmatrix_dict(y_test_d,demoresulta_d, name = 'DNN(with genres) - OneHot'),ignore_index = True)\n",
        "resultsdf.loc[len(resultsdf)] = Evaluationmatrix_dict(y_test_d,demoresulta_d, name = 'DNN(with genres) - OneHot')"
      ],
      "execution_count": 102,
      "outputs": []
    },
    {
      "cell_type": "code",
      "metadata": {
        "colab": {
          "base_uri": "https://localhost:8080/"
        },
        "id": "yISLUowgXHNX",
        "outputId": "c446400b-f1e3-4b12-9786-29d74a4bcf21"
      },
      "source": [
        "print(\"dnn - For one-hot encoding - with genres\")\n",
        "print ('Mean squared error: ' +str(dnna_mse_d))\n",
        "print ('Mean absolute error: ' +str(dnna_mae_d))\n",
        "print ('r2 score: ' +str(dnna_r2_d))"
      ],
      "execution_count": 103,
      "outputs": [
        {
          "output_type": "stream",
          "name": "stdout",
          "text": [
            "dnn - For one-hot encoding - with genres\n",
            "Mean squared error: 0.28290222192572945\n",
            "Mean absolute error: 0.24273634078790973\n",
            "r2 score: -0.02574092493013813\n"
          ]
        }
      ]
    },
    {
      "cell_type": "markdown",
      "metadata": {
        "id": "ETRNTWeWYoEV"
      },
      "source": [
        "# Comparison"
      ]
    },
    {
      "cell_type": "code",
      "metadata": {
        "colab": {
          "base_uri": "https://localhost:8080/",
          "height": 680
        },
        "id": "E8SD7IZIYnl9",
        "outputId": "9e1a4a36-e3cf-4f73-f027-d03e1207c1cc"
      },
      "source": [
        "resultsdf.set_index('Series Name', inplace = True)\n",
        "\n",
        "plt.figure(figsize = (10,12))\n",
        "plt.subplot(3,1,1)\n",
        "resultsdf['Mean Squared Error'].sort_values(ascending = False).plot(kind = 'barh',color=(0.2, 0.8, 0.8, 1), title = 'Mean Squared Error')\n",
        "#plt.subplot(3,1,2)\n",
        "#resultsdf['Mean Absolute Error'].sort_values(ascending = False).plot(kind = 'barh',color=(0.5, 0.4, 0.6, 1), title = 'Mean Absolute Error')\n",
        "plt.subplot(3,1,2)\n",
        "resultsdf['r2_score'].sort_values(ascending = False).plot(kind = 'barh',color=(0.7, 0.4, 0.6, 1), title = 'r2_score')\n",
        "plt.show()"
      ],
      "execution_count": 104,
      "outputs": [
        {
          "output_type": "display_data",
          "data": {
            "text/plain": [
              "<Figure size 1000x1200 with 2 Axes>"
            ],
            "image/png": "[encoded data removed]"
          },
          "metadata": {}
        }
      ]
    },
    {
      "cell_type": "code",
      "metadata": {
        "id": "vOpTs71KwtYY"
      },
      "source": [],
      "execution_count": null,
      "outputs": []
    }
  ]
}